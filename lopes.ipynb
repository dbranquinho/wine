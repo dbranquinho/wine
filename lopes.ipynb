{
  "nbformat": 4,
  "nbformat_minor": 0,
  "metadata": {
    "colab": {
      "name": "lopes.ipynb",
      "provenance": [],
      "collapsed_sections": []
    },
    "kernelspec": {
      "name": "python3",
      "display_name": "Python 3"
    }
  },
  "cells": [
    {
      "cell_type": "markdown",
      "metadata": {
        "id": "NQPcz-oU-2w_",
        "colab_type": "text"
      },
      "source": [
        "## Introdução\n",
        "\n",
        "O presente problema se refere aos dados de vinhos portugueses\n",
        "\"Vinho Verde\", que possuem variantes de vinho branco e tinto.\n",
        "Devido a questões de privacidade, apenas variáveis\n",
        "físico-químicas (input) e sensoriais (output) estão disponíveis (por\n",
        "exemplo, não há dados sobre tipo de uva, marca do vinho, preço\n",
        "de venda, etc).\n",
        "\n",
        "**Objetivo**\n",
        "Criar um modelo para estimar a qualidade do vinho.\n",
        "\n"
      ]
    },
    {
      "cell_type": "code",
      "metadata": {
        "id": "sU7LQN0U_DEd",
        "colab_type": "code",
        "outputId": "3f05371e-3c38-4c50-caba-e5881a73e0e0",
        "colab": {
          "base_uri": "https://localhost:8080/",
          "height": 173
        }
      },
      "source": [
        "pip install h2o"
      ],
      "execution_count": 1,
      "outputs": [
        {
          "output_type": "stream",
          "text": [
            "Requirement already satisfied: h2o in /usr/local/lib/python3.6/dist-packages (3.30.0.1)\n",
            "Requirement already satisfied: colorama>=0.3.8 in /usr/local/lib/python3.6/dist-packages (from h2o) (0.4.3)\n",
            "Requirement already satisfied: requests in /usr/local/lib/python3.6/dist-packages (from h2o) (2.21.0)\n",
            "Requirement already satisfied: future in /usr/local/lib/python3.6/dist-packages (from h2o) (0.16.0)\n",
            "Requirement already satisfied: tabulate in /usr/local/lib/python3.6/dist-packages (from h2o) (0.8.7)\n",
            "Requirement already satisfied: urllib3<1.25,>=1.21.1 in /usr/local/lib/python3.6/dist-packages (from requests->h2o) (1.24.3)\n",
            "Requirement already satisfied: idna<2.9,>=2.5 in /usr/local/lib/python3.6/dist-packages (from requests->h2o) (2.8)\n",
            "Requirement already satisfied: certifi>=2017.4.17 in /usr/local/lib/python3.6/dist-packages (from requests->h2o) (2020.4.5.1)\n",
            "Requirement already satisfied: chardet<3.1.0,>=3.0.2 in /usr/local/lib/python3.6/dist-packages (from requests->h2o) (3.0.4)\n"
          ],
          "name": "stdout"
        }
      ]
    },
    {
      "cell_type": "markdown",
      "metadata": {
        "id": "qWfNffQeXkcP",
        "colab_type": "text"
      },
      "source": [
        "### Iniciando a execução\n",
        "\n",
        "A importação das bicliotecas ou pacotes Python estão nas linhas de comando abaixo.\n",
        "\n",
        "* Pandas para manipulação de dados em formato de Data Frame\n",
        "* Seaborn para criação de gráficos mais elaborados e com maior qualidade visual\n",
        "* Numpy é um pacote que suporta arrays e matrizes multidimensionais\n",
        "* Matplotlib é a biblioteca gráfica de base usada em cojunto com Seaborn\n",
        "* ipywidgets para interação com Jupyter Notebook\n",
        "* H2O é uma plataforma de aprendizado de máquina e análise preditiva de código aberto, na memória, distribuída, rápida e escalonável, que permite criar modelos de aprendizado de máquina em big data e fornece fácil produção desses modelos em um ambiente corporativo\n"
      ]
    },
    {
      "cell_type": "code",
      "metadata": {
        "id": "8oYwyRyxL94m",
        "colab_type": "code",
        "outputId": "7e2c2b6d-fe68-4409-ba7a-f574a2f39204",
        "colab": {
          "base_uri": "https://localhost:8080/",
          "height": 528
        }
      },
      "source": [
        "import pandas as pd\n",
        "import seaborn as sns\n",
        "import numpy as np\n",
        "import matplotlib.pyplot as plt\n",
        "from ipywidgets import interact, interactive, fixed, interact_manual\n",
        "import ipywidgets as widgets\n",
        "%matplotlib inline \n",
        "import h2o\n",
        "from h2o.estimators import H2ORandomForestEstimator\n",
        "h2o.init()"
      ],
      "execution_count": 2,
      "outputs": [
        {
          "output_type": "stream",
          "text": [
            "Checking whether there is an H2O instance running at http://localhost:54321 ."
          ],
          "name": "stdout"
        },
        {
          "output_type": "stream",
          "text": [
            "/usr/local/lib/python3.6/dist-packages/statsmodels/tools/_testing.py:19: FutureWarning: pandas.util.testing is deprecated. Use the functions in the public API at pandas.testing instead.\n",
            "  import pandas.util.testing as tm\n"
          ],
          "name": "stderr"
        },
        {
          "output_type": "stream",
          "text": [
            ".... not found.\n",
            "Attempting to start a local H2O server...\n",
            "  Java Version: openjdk version \"11.0.6\" 2020-01-14; OpenJDK Runtime Environment (build 11.0.6+10-post-Ubuntu-1ubuntu118.04.1); OpenJDK 64-Bit Server VM (build 11.0.6+10-post-Ubuntu-1ubuntu118.04.1, mixed mode, sharing)\n",
            "  Starting server from /usr/local/lib/python3.6/dist-packages/h2o/backend/bin/h2o.jar\n",
            "  Ice root: /tmp/tmpy7d4qcgi\n",
            "  JVM stdout: /tmp/tmpy7d4qcgi/h2o_unknownUser_started_from_python.out\n",
            "  JVM stderr: /tmp/tmpy7d4qcgi/h2o_unknownUser_started_from_python.err\n",
            "  Server is running at http://127.0.0.1:54321\n",
            "Connecting to H2O server at http://127.0.0.1:54321 ... successful.\n"
          ],
          "name": "stdout"
        },
        {
          "output_type": "display_data",
          "data": {
            "text/html": [
              "<div style=\"overflow:auto\"><table style=\"width:50%\"><tr><td>H2O_cluster_uptime:</td>\n",
              "<td>02 secs</td></tr>\n",
              "<tr><td>H2O_cluster_timezone:</td>\n",
              "<td>Etc/UTC</td></tr>\n",
              "<tr><td>H2O_data_parsing_timezone:</td>\n",
              "<td>UTC</td></tr>\n",
              "<tr><td>H2O_cluster_version:</td>\n",
              "<td>3.30.0.1</td></tr>\n",
              "<tr><td>H2O_cluster_version_age:</td>\n",
              "<td>9 days </td></tr>\n",
              "<tr><td>H2O_cluster_name:</td>\n",
              "<td>H2O_from_python_unknownUser_eai9bt</td></tr>\n",
              "<tr><td>H2O_cluster_total_nodes:</td>\n",
              "<td>1</td></tr>\n",
              "<tr><td>H2O_cluster_free_memory:</td>\n",
              "<td>3.180 Gb</td></tr>\n",
              "<tr><td>H2O_cluster_total_cores:</td>\n",
              "<td>2</td></tr>\n",
              "<tr><td>H2O_cluster_allowed_cores:</td>\n",
              "<td>2</td></tr>\n",
              "<tr><td>H2O_cluster_status:</td>\n",
              "<td>accepting new members, healthy</td></tr>\n",
              "<tr><td>H2O_connection_url:</td>\n",
              "<td>http://127.0.0.1:54321</td></tr>\n",
              "<tr><td>H2O_connection_proxy:</td>\n",
              "<td>{\"http\": null, \"https\": null}</td></tr>\n",
              "<tr><td>H2O_internal_security:</td>\n",
              "<td>False</td></tr>\n",
              "<tr><td>H2O_API_Extensions:</td>\n",
              "<td>Amazon S3, XGBoost, Algos, AutoML, Core V3, TargetEncoder, Core V4</td></tr>\n",
              "<tr><td>Python_version:</td>\n",
              "<td>3.6.9 final</td></tr></table></div>"
            ],
            "text/plain": [
              "--------------------------  ------------------------------------------------------------------\n",
              "H2O_cluster_uptime:         02 secs\n",
              "H2O_cluster_timezone:       Etc/UTC\n",
              "H2O_data_parsing_timezone:  UTC\n",
              "H2O_cluster_version:        3.30.0.1\n",
              "H2O_cluster_version_age:    9 days\n",
              "H2O_cluster_name:           H2O_from_python_unknownUser_eai9bt\n",
              "H2O_cluster_total_nodes:    1\n",
              "H2O_cluster_free_memory:    3.180 Gb\n",
              "H2O_cluster_total_cores:    2\n",
              "H2O_cluster_allowed_cores:  2\n",
              "H2O_cluster_status:         accepting new members, healthy\n",
              "H2O_connection_url:         http://127.0.0.1:54321\n",
              "H2O_connection_proxy:       {\"http\": null, \"https\": null}\n",
              "H2O_internal_security:      False\n",
              "H2O_API_Extensions:         Amazon S3, XGBoost, Algos, AutoML, Core V3, TargetEncoder, Core V4\n",
              "Python_version:             3.6.9 final\n",
              "--------------------------  ------------------------------------------------------------------"
            ]
          },
          "metadata": {
            "tags": []
          }
        }
      ]
    },
    {
      "cell_type": "markdown",
      "metadata": {
        "id": "IW8exNiPy_Rg",
        "colab_type": "text"
      },
      "source": [
        "### Leitura do arquivo fonte\n",
        "\n",
        "\n",
        "![default of credit card clients Data Set](https://archive.ics.uci.edu/ml/assets/logo.gif)\n",
        "\n",
        "[Arquivo Original](http://archive.ics.uci.edu/ml/datasets/Wine+Quality)\n",
        "\n",
        "Não usamos o arquivo original. O motivo será explicado no final desse documento.\n",
        "Nesse passo é importante ter acesso à Internet, pois o arquivo está sendo lido diretamente do Github.\n",
        "\n",
        "NOTA: esse arquivo foi enviado pelo solicitante que aqui supriremos o nome por questões de sigilo do processo."
      ]
    },
    {
      "cell_type": "code",
      "metadata": {
        "id": "NLqJ2sbfNMue",
        "colab_type": "code",
        "colab": {}
      },
      "source": [
        "dfo = pd.read_csv('https://raw.githubusercontent.com/dbranquinho/wine/master/winequality.csv', sep=';')"
      ],
      "execution_count": 0,
      "outputs": []
    },
    {
      "cell_type": "markdown",
      "metadata": {
        "id": "8KHFPVOo0J55",
        "colab_type": "text"
      },
      "source": [
        "### Transformações\n",
        "\n",
        "Faremos aqui algumas transformações para deixar mais claro as variáveis envolvidas."
      ]
    },
    {
      "cell_type": "markdown",
      "metadata": {
        "id": "yGSJZRsICzF2",
        "colab_type": "text"
      },
      "source": [
        "Abaixo temos parte dos dados expostos. Observamos que a variável *quality* é a nossa variável alvo. \n",
        "\n",
        "Variáveis input (baseado em testes físico-químicos):\n",
        "1. Tipo\n",
        "2. Acidez fixa\n",
        "3. Volatilidade da acidez\n",
        "4. Ácido cítrico\n",
        "5. Açúcar residual\n",
        "6. Cloretos\n",
        "7. Dióxido de enxofre livre\n",
        "8. Dióxido de enxofre total\n",
        "9. Densidade\n",
        "10. pH\n",
        "11. Sulfatos\n",
        "12. Álcool\n",
        "\n",
        "Variável output (baseado em dado sensorial):\n",
        "13. Qualidade (score entre 0 and 10)\n",
        "\n",
        "As variáveis tem nomes separados por espaços, faremos uma pequena transformação para evitar possíveis problemas de tokenização."
      ]
    },
    {
      "cell_type": "code",
      "metadata": {
        "id": "bS4xM-CCikNt",
        "colab_type": "code",
        "outputId": "1084464c-8e23-47d4-e415-4dbab66fd065",
        "colab": {
          "base_uri": "https://localhost:8080/",
          "height": 202
        }
      },
      "source": [
        "dfo.head()\n"
      ],
      "execution_count": 4,
      "outputs": [
        {
          "output_type": "execute_result",
          "data": {
            "text/html": [
              "<div>\n",
              "<style scoped>\n",
              "    .dataframe tbody tr th:only-of-type {\n",
              "        vertical-align: middle;\n",
              "    }\n",
              "\n",
              "    .dataframe tbody tr th {\n",
              "        vertical-align: top;\n",
              "    }\n",
              "\n",
              "    .dataframe thead th {\n",
              "        text-align: right;\n",
              "    }\n",
              "</style>\n",
              "<table border=\"1\" class=\"dataframe\">\n",
              "  <thead>\n",
              "    <tr style=\"text-align: right;\">\n",
              "      <th></th>\n",
              "      <th>type</th>\n",
              "      <th>fixed acidity</th>\n",
              "      <th>volatile acidity</th>\n",
              "      <th>citric acid</th>\n",
              "      <th>residual sugar</th>\n",
              "      <th>chlorides</th>\n",
              "      <th>free sulfur dioxide</th>\n",
              "      <th>total sulfur dioxide</th>\n",
              "      <th>density</th>\n",
              "      <th>pH</th>\n",
              "      <th>sulphates</th>\n",
              "      <th>alcohol</th>\n",
              "      <th>quality</th>\n",
              "    </tr>\n",
              "  </thead>\n",
              "  <tbody>\n",
              "    <tr>\n",
              "      <th>0</th>\n",
              "      <td>White</td>\n",
              "      <td>7.0</td>\n",
              "      <td>0.27</td>\n",
              "      <td>0.36</td>\n",
              "      <td>20.7</td>\n",
              "      <td>0.045</td>\n",
              "      <td>45.0</td>\n",
              "      <td>170.0</td>\n",
              "      <td>1.0010</td>\n",
              "      <td>3.00</td>\n",
              "      <td>0.45</td>\n",
              "      <td>8.8</td>\n",
              "      <td>6</td>\n",
              "    </tr>\n",
              "    <tr>\n",
              "      <th>1</th>\n",
              "      <td>White</td>\n",
              "      <td>6.3</td>\n",
              "      <td>0.30</td>\n",
              "      <td>0.34</td>\n",
              "      <td>1.6</td>\n",
              "      <td>0.049</td>\n",
              "      <td>14.0</td>\n",
              "      <td>132.0</td>\n",
              "      <td>0.9940</td>\n",
              "      <td>3.30</td>\n",
              "      <td>0.49</td>\n",
              "      <td>9.5</td>\n",
              "      <td>6</td>\n",
              "    </tr>\n",
              "    <tr>\n",
              "      <th>2</th>\n",
              "      <td>White</td>\n",
              "      <td>8.1</td>\n",
              "      <td>0.28</td>\n",
              "      <td>0.40</td>\n",
              "      <td>6.9</td>\n",
              "      <td>0.050</td>\n",
              "      <td>30.0</td>\n",
              "      <td>97.0</td>\n",
              "      <td>0.9951</td>\n",
              "      <td>3.26</td>\n",
              "      <td>0.44</td>\n",
              "      <td>10.1</td>\n",
              "      <td>6</td>\n",
              "    </tr>\n",
              "    <tr>\n",
              "      <th>3</th>\n",
              "      <td>White</td>\n",
              "      <td>7.2</td>\n",
              "      <td>0.23</td>\n",
              "      <td>0.32</td>\n",
              "      <td>8.5</td>\n",
              "      <td>0.058</td>\n",
              "      <td>47.0</td>\n",
              "      <td>186.0</td>\n",
              "      <td>0.9956</td>\n",
              "      <td>3.19</td>\n",
              "      <td>0.40</td>\n",
              "      <td>9.9</td>\n",
              "      <td>6</td>\n",
              "    </tr>\n",
              "    <tr>\n",
              "      <th>4</th>\n",
              "      <td>White</td>\n",
              "      <td>7.2</td>\n",
              "      <td>0.23</td>\n",
              "      <td>0.32</td>\n",
              "      <td>8.5</td>\n",
              "      <td>0.058</td>\n",
              "      <td>47.0</td>\n",
              "      <td>186.0</td>\n",
              "      <td>0.9956</td>\n",
              "      <td>3.19</td>\n",
              "      <td>0.40</td>\n",
              "      <td>9.9</td>\n",
              "      <td>6</td>\n",
              "    </tr>\n",
              "  </tbody>\n",
              "</table>\n",
              "</div>"
            ],
            "text/plain": [
              "    type  fixed acidity  volatile acidity  ...  sulphates  alcohol  quality\n",
              "0  White            7.0              0.27  ...       0.45      8.8        6\n",
              "1  White            6.3              0.30  ...       0.49      9.5        6\n",
              "2  White            8.1              0.28  ...       0.44     10.1        6\n",
              "3  White            7.2              0.23  ...       0.40      9.9        6\n",
              "4  White            7.2              0.23  ...       0.40      9.9        6\n",
              "\n",
              "[5 rows x 13 columns]"
            ]
          },
          "metadata": {
            "tags": []
          },
          "execution_count": 4
        }
      ]
    },
    {
      "cell_type": "code",
      "metadata": {
        "id": "iruii8bRNRjZ",
        "colab_type": "code",
        "colab": {}
      },
      "source": [
        "dfo.rename({'fixed acidity': 'fixed_acidity',\n",
        "           'volatile acidity': 'volatile_acidity', \n",
        "           'citric acid': 'citric_acid', \n",
        "           'residual sugar': 'residual_sugar', \n",
        "           'free sulfur dioxide': 'free_sulfur_dioxide', \n",
        "           'total sulfur dioxide': 'total_sulfur_dioxide'}, \n",
        "           axis=1, inplace=True)"
      ],
      "execution_count": 0,
      "outputs": []
    },
    {
      "cell_type": "markdown",
      "metadata": {
        "id": "poLr_C5sjXZX",
        "colab_type": "text"
      },
      "source": [
        "**Dados ou linha duplicadas**\n",
        "\n",
        "Vamos verificar se há linhas duplicadas nesse dataset.\n",
        "Esse é um passo de limpeza e preparação de dados."
      ]
    },
    {
      "cell_type": "code",
      "metadata": {
        "id": "QXLFH-wbjcDu",
        "colab_type": "code",
        "outputId": "714b0bc4-789b-4486-8efa-dfe652670a50",
        "colab": {
          "base_uri": "https://localhost:8080/",
          "height": 277
        }
      },
      "source": [
        "duplicateRowsDF = dfo[dfo.duplicated()]\n",
        "print(\"Duplicate Rows except first occurrence based on all columns are :\")\n",
        "print(duplicateRowsDF)"
      ],
      "execution_count": 6,
      "outputs": [
        {
          "output_type": "stream",
          "text": [
            "Duplicate Rows except first occurrence based on all columns are :\n",
            "       type  fixed_acidity  volatile_acidity  ...  sulphates  alcohol  quality\n",
            "4     White            7.2             0.230  ...       0.40      9.9        6\n",
            "5     White            8.1             0.280  ...       0.44     10.1        6\n",
            "7     White            7.0             0.270  ...       0.45      8.8        6\n",
            "8     White            6.3             0.300  ...       0.49      9.5        6\n",
            "20    White            6.2             0.660  ...       0.39     12.8        8\n",
            "...     ...            ...               ...  ...        ...      ...      ...\n",
            "6461    Red            7.2             0.695  ...       0.54     10.1        5\n",
            "6462    Red            7.2             0.695  ...       0.54     10.1        5\n",
            "6465    Red            7.2             0.695  ...       0.54     10.1        5\n",
            "6479    Red            6.2             0.560  ...       0.60     11.3        5\n",
            "6494    Red            6.3             0.510  ...       0.75       11        6\n",
            "\n",
            "[1177 rows x 13 columns]\n"
          ],
          "name": "stdout"
        }
      ]
    },
    {
      "cell_type": "code",
      "metadata": {
        "id": "5czKo0usj91z",
        "colab_type": "code",
        "outputId": "d7c8be76-4b6b-4360-9e03-1aa29f9c5f98",
        "colab": {
          "base_uri": "https://localhost:8080/",
          "height": 34
        }
      },
      "source": [
        "dfo.shape"
      ],
      "execution_count": 7,
      "outputs": [
        {
          "output_type": "execute_result",
          "data": {
            "text/plain": [
              "(6497, 13)"
            ]
          },
          "metadata": {
            "tags": []
          },
          "execution_count": 7
        }
      ]
    },
    {
      "cell_type": "markdown",
      "metadata": {
        "id": "rHa8utGsjikz",
        "colab_type": "text"
      },
      "source": [
        "Temos $1177$ obervações duplicadas, vamos excluí-las, pois isso pode enviesar (criar bias) os resultados atribuindo pesos para determinadas classes em detrimento de outras.\n",
        "\n",
        "---\n",
        "\n",
        "\n"
      ]
    },
    {
      "cell_type": "code",
      "metadata": {
        "id": "I2V6xCSyjpHj",
        "colab_type": "code",
        "colab": {}
      },
      "source": [
        "dfo = dfo.drop_duplicates(ignore_index=True)"
      ],
      "execution_count": 0,
      "outputs": []
    },
    {
      "cell_type": "code",
      "metadata": {
        "id": "SUFXXTAVj5fh",
        "colab_type": "code",
        "outputId": "4b8c5140-d057-4b53-d088-4f4b91dfd43e",
        "colab": {
          "base_uri": "https://localhost:8080/",
          "height": 34
        }
      },
      "source": [
        "dfo.shape"
      ],
      "execution_count": 9,
      "outputs": [
        {
          "output_type": "execute_result",
          "data": {
            "text/plain": [
              "(5320, 13)"
            ]
          },
          "metadata": {
            "tags": []
          },
          "execution_count": 9
        }
      ]
    },
    {
      "cell_type": "markdown",
      "metadata": {
        "id": "8z__AAVsp9Yk",
        "colab_type": "text"
      },
      "source": [
        "Reindexando para eliminar linhas com \"NaN\" removidas.\n"
      ]
    },
    {
      "cell_type": "code",
      "metadata": {
        "id": "clxbAQy4p8oF",
        "colab_type": "code",
        "colab": {}
      },
      "source": [
        "dfo = dfo.reindex(range(0,dfo.shape[0]))"
      ],
      "execution_count": 0,
      "outputs": []
    },
    {
      "cell_type": "markdown",
      "metadata": {
        "id": "hjfnkLcmLBvG",
        "colab_type": "text"
      },
      "source": [
        "Vamos verificar que tipos de variáveis nos temos"
      ]
    },
    {
      "cell_type": "code",
      "metadata": {
        "id": "2MHf0bhi_EKO",
        "colab_type": "code",
        "outputId": "646febc4-2560-434d-ba69-17d7fcba7463",
        "colab": {
          "base_uri": "https://localhost:8080/",
          "height": 260
        }
      },
      "source": [
        "dfo.dtypes"
      ],
      "execution_count": 11,
      "outputs": [
        {
          "output_type": "execute_result",
          "data": {
            "text/plain": [
              "type                     object\n",
              "fixed_acidity           float64\n",
              "volatile_acidity        float64\n",
              "citric_acid             float64\n",
              "residual_sugar          float64\n",
              "chlorides               float64\n",
              "free_sulfur_dioxide     float64\n",
              "total_sulfur_dioxide    float64\n",
              "density                 float64\n",
              "pH                      float64\n",
              "sulphates               float64\n",
              "alcohol                  object\n",
              "quality                   int64\n",
              "dtype: object"
            ]
          },
          "metadata": {
            "tags": []
          },
          "execution_count": 11
        }
      ]
    },
    {
      "cell_type": "markdown",
      "metadata": {
        "id": "RCcthxiT_99e",
        "colab_type": "text"
      },
      "source": [
        "Parece que o arquivo original foi alterado, pois a variável alcohol é do tipo categorica. Vamos verificar o que aconteceu com essa variável e ver seu conteúdo. Quais valores únicos existem."
      ]
    },
    {
      "cell_type": "code",
      "metadata": {
        "id": "ceyQfRs76guh",
        "colab_type": "code",
        "outputId": "df49fa94-6c2c-4aa9-b78f-09460ee9c569",
        "colab": {
          "base_uri": "https://localhost:8080/",
          "height": 398
        }
      },
      "source": [
        "dfo['alcohol'].unique()"
      ],
      "execution_count": 12,
      "outputs": [
        {
          "output_type": "execute_result",
          "data": {
            "text/plain": [
              "array(['8.8', '9.5', '10.1', '9.9', '9.6', '11', '12', '9.7', '10.8',\n",
              "       '12.4', '11.4', '12.8', '11.3', '10.5', '9.3', '10', '10.4',\n",
              "       '11.6', '12.3', '10.2', '9', '11.2', '8.6', '9.4', '9.8', '11.7',\n",
              "       '10.9', '9.1', '8.9', '10.3', '12.6', '10.7', '12.7', '10.6',\n",
              "       '9.2', '8.7', '11.5', '11.8', '12.1', '11.1', '8.5', '12.5',\n",
              "       '11.9', '12.2', '12.9', '13.9', '14', '13.5', '13.3', '13.2',\n",
              "       '13.7', '13.4', '13', '8', '13.1', '8.0', '13.6', '8.4', '14.2',\n",
              "       '11.94', '128.933.333.333.333', '114.666.666.666.667', '10.98',\n",
              "       '100.333.333.333.333', '114.333.333.333.333',\n",
              "       '105.333.333.333.333', '953.333.333.333.333',\n",
              "       '109.333.333.333.333', '113.666.666.666.667',\n",
              "       '113.333.333.333.333', '110.666.666.666.667',\n",
              "       '973.333.333.333.333', '11.05', '9.75', '11.35', '9.55', '10.55',\n",
              "       '11.45', '14.05', '123.333.333.333.333', '12.75', '13.8', '12.15',\n",
              "       '13.05', '112.666.666.666.667', '105.666.666.666.667',\n",
              "       '117.333.333.333.333', '11.75', '10.65', '109.666.666.666.667',\n",
              "       '101.333.333.333.333', '10.15', '104.666.666.666.667',\n",
              "       '116.333.333.333.333', '12.25', '11.85', '11.65', '13.55',\n",
              "       '131.333.333.333.333', '11.95', '120.666.666.666.667', '11.55',\n",
              "       '963.333.333.333.333', '12.05', '14.9', '956.666.666.666.667',\n",
              "       '135.666.666.666.667', '9.95', '923.333.333.333.333', '9.25',\n",
              "       '9.05', '10.75'], dtype=object)"
            ]
          },
          "metadata": {
            "tags": []
          },
          "execution_count": 12
        }
      ]
    },
    {
      "cell_type": "markdown",
      "metadata": {
        "id": "ZCqjyhv-CnYf",
        "colab_type": "text"
      },
      "source": [
        "Há uma distorção nos valores originais do dataset. Vamos corrigir essa distorção assumindo que são dízimas periódicas."
      ]
    },
    {
      "cell_type": "code",
      "metadata": {
        "id": "MRHBUqiQ6crU",
        "colab_type": "code",
        "colab": {}
      },
      "source": [
        "myvar = dfo[\"alcohol\"].copy()"
      ],
      "execution_count": 0,
      "outputs": []
    },
    {
      "cell_type": "code",
      "metadata": {
        "id": "5VsPPVJpBRox",
        "colab_type": "code",
        "colab": {}
      },
      "source": [
        "for i in range(0,myvar.shape[0]):\n",
        "    if myvar[i].count('.') > 2:\n",
        "       myvar[i] = myvar[i].split('.')[0]+'.'+myvar[i].split('.')[1]"
      ],
      "execution_count": 0,
      "outputs": []
    },
    {
      "cell_type": "code",
      "metadata": {
        "id": "smUHXOhYDKSC",
        "colab_type": "code",
        "colab": {}
      },
      "source": [
        "dfo[\"alcohol\"] = myvar.copy()"
      ],
      "execution_count": 0,
      "outputs": []
    },
    {
      "cell_type": "code",
      "metadata": {
        "id": "dknXNCnYCws9",
        "colab_type": "code",
        "outputId": "fe7f6d33-eb53-4058-ac60-47ad6c57f785",
        "colab": {
          "base_uri": "https://localhost:8080/",
          "height": 294
        }
      },
      "source": [
        "dfo['alcohol'].unique()"
      ],
      "execution_count": 16,
      "outputs": [
        {
          "output_type": "execute_result",
          "data": {
            "text/plain": [
              "array(['8.8', '9.5', '10.1', '9.9', '9.6', '11', '12', '9.7', '10.8',\n",
              "       '12.4', '11.4', '12.8', '11.3', '10.5', '9.3', '10', '10.4',\n",
              "       '11.6', '12.3', '10.2', '9', '11.2', '8.6', '9.4', '9.8', '11.7',\n",
              "       '10.9', '9.1', '8.9', '10.3', '12.6', '10.7', '12.7', '10.6',\n",
              "       '9.2', '8.7', '11.5', '11.8', '12.1', '11.1', '8.5', '12.5',\n",
              "       '11.9', '12.2', '12.9', '13.9', '14', '13.5', '13.3', '13.2',\n",
              "       '13.7', '13.4', '13', '8', '13.1', '8.0', '13.6', '8.4', '14.2',\n",
              "       '11.94', '128.933', '114.666', '10.98', '100.333', '114.333',\n",
              "       '105.333', '953.333', '109.333', '113.666', '113.333', '110.666',\n",
              "       '973.333', '11.05', '9.75', '11.35', '9.55', '10.55', '11.45',\n",
              "       '14.05', '123.333', '12.75', '13.8', '12.15', '13.05', '112.666',\n",
              "       '105.666', '117.333', '11.75', '10.65', '109.666', '101.333',\n",
              "       '10.15', '104.666', '116.333', '12.25', '11.85', '11.65', '13.55',\n",
              "       '131.333', '11.95', '120.666', '11.55', '963.333', '12.05', '14.9',\n",
              "       '956.666', '135.666', '9.95', '923.333', '9.25', '9.05', '10.75'],\n",
              "      dtype=object)"
            ]
          },
          "metadata": {
            "tags": []
          },
          "execution_count": 16
        }
      ]
    },
    {
      "cell_type": "markdown",
      "metadata": {
        "id": "LIi8luGT3IEM",
        "colab_type": "text"
      },
      "source": [
        "Ainda assim os valores maiores que 100 parecem ter sido criados artificialmente.\n",
        "Não estamos comparando com o arquivo original que não possue esses valores, mas estamos respeitando a amostra enviada. Estamos apenas na fase de preparação dos dados para uma melhor modelagem."
      ]
    },
    {
      "cell_type": "markdown",
      "metadata": {
        "id": "RX66fWyOKulA",
        "colab_type": "text"
      },
      "source": [
        "Agora vamos transformar essa variável categorica para float."
      ]
    },
    {
      "cell_type": "code",
      "metadata": {
        "id": "E3d8tZ9OrXiI",
        "colab_type": "code",
        "colab": {}
      },
      "source": [
        "dfo['alcohol'] = pd.to_numeric(dfo['alcohol'])"
      ],
      "execution_count": 0,
      "outputs": []
    },
    {
      "cell_type": "markdown",
      "metadata": {
        "id": "QkiBXCRuNPe5",
        "colab_type": "text"
      },
      "source": [
        "Os valores maiores que 100 serão divididos por 10, não teor alcoolico maior que 100%."
      ]
    },
    {
      "cell_type": "code",
      "metadata": {
        "id": "pWzRp9f_PTlD",
        "colab_type": "code",
        "colab": {}
      },
      "source": [
        "myvar = dfo['alcohol'].copy()"
      ],
      "execution_count": 0,
      "outputs": []
    },
    {
      "cell_type": "code",
      "metadata": {
        "id": "DorQ80snQ00n",
        "colab_type": "code",
        "colab": {}
      },
      "source": [
        "for i in range(0,myvar.shape[0]):\n",
        "    if myvar[i] > 100:\n",
        "       myvar[i] = myvar[i] / 10\n",
        "    if myvar[i] > 50:\n",
        "       myvar[i] = myvar[i] / 10\n",
        "      "
      ],
      "execution_count": 0,
      "outputs": []
    },
    {
      "cell_type": "code",
      "metadata": {
        "id": "SZGdb0a5N2lk",
        "colab_type": "code",
        "colab": {}
      },
      "source": [
        "dfo[\"alcohol\"] = myvar.copy()"
      ],
      "execution_count": 0,
      "outputs": []
    },
    {
      "cell_type": "code",
      "metadata": {
        "id": "IUF8oXyPVLc0",
        "colab_type": "code",
        "colab": {
          "base_uri": "https://localhost:8080/",
          "height": 346
        },
        "outputId": "c5cebd8c-f081-477a-a762-22b1cdbf1cd6"
      },
      "source": [
        "dfo['alcohol'].unique()"
      ],
      "execution_count": 21,
      "outputs": [
        {
          "output_type": "execute_result",
          "data": {
            "text/plain": [
              "array([ 8.8    ,  9.5    , 10.1    ,  9.9    ,  9.6    , 11.     ,\n",
              "       12.     ,  9.7    , 10.8    , 12.4    , 11.4    , 12.8    ,\n",
              "       11.3    , 10.5    ,  9.3    , 10.     , 10.4    , 11.6    ,\n",
              "       12.3    , 10.2    ,  9.     , 11.2    ,  8.6    ,  9.4    ,\n",
              "        9.8    , 11.7    , 10.9    ,  9.1    ,  8.9    , 10.3    ,\n",
              "       12.6    , 10.7    , 12.7    , 10.6    ,  9.2    ,  8.7    ,\n",
              "       11.5    , 11.8    , 12.1    , 11.1    ,  8.5    , 12.5    ,\n",
              "       11.9    , 12.2    , 12.9    , 13.9    , 14.     , 13.5    ,\n",
              "       13.3    , 13.2    , 13.7    , 13.4    , 13.     ,  8.     ,\n",
              "       13.1    , 13.6    ,  8.4    , 14.2    , 11.94   , 12.8933 ,\n",
              "       11.4666 , 10.98   , 10.0333 , 11.4333 , 10.5333 ,  9.53333,\n",
              "       10.9333 , 11.3666 , 11.3333 , 11.0666 ,  9.73333, 11.05   ,\n",
              "        9.75   , 11.35   ,  9.55   , 10.55   , 11.45   , 14.05   ,\n",
              "       12.3333 , 12.75   , 13.8    , 12.15   , 13.05   , 11.2666 ,\n",
              "       10.5666 , 11.7333 , 11.75   , 10.65   , 10.9666 , 10.1333 ,\n",
              "       10.15   , 10.4666 , 11.6333 , 12.25   , 11.85   , 11.65   ,\n",
              "       13.55   , 13.1333 , 11.95   , 12.0666 , 11.55   ,  9.63333,\n",
              "       12.05   , 14.9    ,  9.56666, 13.5666 ,  9.95   ,  9.23333,\n",
              "        9.25   ,  9.05   , 10.75   ])"
            ]
          },
          "metadata": {
            "tags": []
          },
          "execution_count": 21
        }
      ]
    },
    {
      "cell_type": "code",
      "metadata": {
        "id": "l_UNaKfQK7mF",
        "colab_type": "code",
        "outputId": "b7d023be-89a4-4e3a-c6b6-9d30894fc25b",
        "colab": {
          "base_uri": "https://localhost:8080/",
          "height": 260
        }
      },
      "source": [
        "dfo.dtypes"
      ],
      "execution_count": 22,
      "outputs": [
        {
          "output_type": "execute_result",
          "data": {
            "text/plain": [
              "type                     object\n",
              "fixed_acidity           float64\n",
              "volatile_acidity        float64\n",
              "citric_acid             float64\n",
              "residual_sugar          float64\n",
              "chlorides               float64\n",
              "free_sulfur_dioxide     float64\n",
              "total_sulfur_dioxide    float64\n",
              "density                 float64\n",
              "pH                      float64\n",
              "sulphates               float64\n",
              "alcohol                 float64\n",
              "quality                   int64\n",
              "dtype: object"
            ]
          },
          "metadata": {
            "tags": []
          },
          "execution_count": 22
        }
      ]
    },
    {
      "cell_type": "markdown",
      "metadata": {
        "id": "4s-B_y_y1U2p",
        "colab_type": "text"
      },
      "source": [
        "As  dimensões da amostra são:\n",
        "* 5320 observações\n",
        "* 12 características"
      ]
    },
    {
      "cell_type": "code",
      "metadata": {
        "id": "DgNLcWNvpzAL",
        "colab_type": "code",
        "outputId": "11d820fa-ce92-4150-faf2-73c111b96d9e",
        "colab": {
          "base_uri": "https://localhost:8080/",
          "height": 34
        }
      },
      "source": [
        "dfo.shape"
      ],
      "execution_count": 23,
      "outputs": [
        {
          "output_type": "execute_result",
          "data": {
            "text/plain": [
              "(5320, 13)"
            ]
          },
          "metadata": {
            "tags": []
          },
          "execution_count": 23
        }
      ]
    },
    {
      "cell_type": "markdown",
      "metadata": {
        "id": "IrKUsxTBLCS0",
        "colab_type": "text"
      },
      "source": [
        "**Verificação de dados ausentes**\n",
        "\n",
        "Veremos que não há dados ausentes. É muito importante porque o tratamento de limpeza deste não é necessário."
      ]
    },
    {
      "cell_type": "code",
      "metadata": {
        "id": "UbgtmmnfLGTs",
        "colab_type": "code",
        "outputId": "7cf14558-3fd3-4865-daad-ad8b21c43fef",
        "colab": {
          "base_uri": "https://localhost:8080/",
          "height": 110
        }
      },
      "source": [
        "total = dfo.isnull().sum().sort_values(ascending = False)\n",
        "percent = (dfo.isnull().sum()/dfo.isnull().count()*100).sort_values(ascending = False)\n",
        "pd.concat([total, percent], axis=1, keys=['Total', 'Percent']).transpose()"
      ],
      "execution_count": 24,
      "outputs": [
        {
          "output_type": "execute_result",
          "data": {
            "text/html": [
              "<div>\n",
              "<style scoped>\n",
              "    .dataframe tbody tr th:only-of-type {\n",
              "        vertical-align: middle;\n",
              "    }\n",
              "\n",
              "    .dataframe tbody tr th {\n",
              "        vertical-align: top;\n",
              "    }\n",
              "\n",
              "    .dataframe thead th {\n",
              "        text-align: right;\n",
              "    }\n",
              "</style>\n",
              "<table border=\"1\" class=\"dataframe\">\n",
              "  <thead>\n",
              "    <tr style=\"text-align: right;\">\n",
              "      <th></th>\n",
              "      <th>quality</th>\n",
              "      <th>alcohol</th>\n",
              "      <th>sulphates</th>\n",
              "      <th>pH</th>\n",
              "      <th>density</th>\n",
              "      <th>total_sulfur_dioxide</th>\n",
              "      <th>free_sulfur_dioxide</th>\n",
              "      <th>chlorides</th>\n",
              "      <th>residual_sugar</th>\n",
              "      <th>citric_acid</th>\n",
              "      <th>volatile_acidity</th>\n",
              "      <th>fixed_acidity</th>\n",
              "      <th>type</th>\n",
              "    </tr>\n",
              "  </thead>\n",
              "  <tbody>\n",
              "    <tr>\n",
              "      <th>Total</th>\n",
              "      <td>0.0</td>\n",
              "      <td>0.0</td>\n",
              "      <td>0.0</td>\n",
              "      <td>0.0</td>\n",
              "      <td>0.0</td>\n",
              "      <td>0.0</td>\n",
              "      <td>0.0</td>\n",
              "      <td>0.0</td>\n",
              "      <td>0.0</td>\n",
              "      <td>0.0</td>\n",
              "      <td>0.0</td>\n",
              "      <td>0.0</td>\n",
              "      <td>0.0</td>\n",
              "    </tr>\n",
              "    <tr>\n",
              "      <th>Percent</th>\n",
              "      <td>0.0</td>\n",
              "      <td>0.0</td>\n",
              "      <td>0.0</td>\n",
              "      <td>0.0</td>\n",
              "      <td>0.0</td>\n",
              "      <td>0.0</td>\n",
              "      <td>0.0</td>\n",
              "      <td>0.0</td>\n",
              "      <td>0.0</td>\n",
              "      <td>0.0</td>\n",
              "      <td>0.0</td>\n",
              "      <td>0.0</td>\n",
              "      <td>0.0</td>\n",
              "    </tr>\n",
              "  </tbody>\n",
              "</table>\n",
              "</div>"
            ],
            "text/plain": [
              "         quality  alcohol  sulphates  ...  volatile_acidity  fixed_acidity  type\n",
              "Total        0.0      0.0        0.0  ...               0.0            0.0   0.0\n",
              "Percent      0.0      0.0        0.0  ...               0.0            0.0   0.0\n",
              "\n",
              "[2 rows x 13 columns]"
            ]
          },
          "metadata": {
            "tags": []
          },
          "execution_count": 24
        }
      ]
    },
    {
      "cell_type": "markdown",
      "metadata": {
        "id": "zxfYVB2cL4bB",
        "colab_type": "text"
      },
      "source": [
        "**Verificando classes desequilibradas**\n",
        "\n",
        "Vamos verificar o desequilíbrio dos dados em relação ao valor-alvo, ou seja, **quality**.\n",
        "\n",
        "Os dados apresentam um grande desequilíbrio com relação ao valor alvo (quality), mas **Sim**, as classes são muito desequilibradas, portanto, o parâmetro que será usado em *H2O* deve obtê-lo usando Bagging.\n",
        "\n",
        "*Bootstrap Aggregating*, também chamada de *bagging*, é um meta-algoritmo de conjunto de aprendizado de máquina projetado para melhorar a estabilidade e a precisão dos algoritmos de aprendizado de máquina usados na classificação e regressão estatística. Também reduz a variação e ajuda a evitar ajustes excessivos (*overfitting*). \n",
        "\n",
        "Embora geralmente seja aplicado aos métodos da árvore de decisão, ele pode ser usado com qualquer tipo de método. O *bagging* é um caso especial da abordagem de média do modelo.\n",
        "\n",
        "[Wiki](https://en.wikipedia.org/wiki/Bootstrap_aggregating)"
      ]
    },
    {
      "cell_type": "markdown",
      "metadata": {
        "id": "-t-EGHupyWph",
        "colab_type": "text"
      },
      "source": [
        "Vamos ver quantas classes temos"
      ]
    },
    {
      "cell_type": "code",
      "metadata": {
        "id": "5dfwxFpKyVvF",
        "colab_type": "code",
        "outputId": "59eef3b5-6f44-4d8d-9bb4-3e9dd5c80b05",
        "colab": {
          "base_uri": "https://localhost:8080/",
          "height": 34
        }
      },
      "source": [
        "dfo.quality.unique()"
      ],
      "execution_count": 25,
      "outputs": [
        {
          "output_type": "execute_result",
          "data": {
            "text/plain": [
              "array([6, 5, 7, 8, 4, 3, 9])"
            ]
          },
          "metadata": {
            "tags": []
          },
          "execution_count": 25
        }
      ]
    },
    {
      "cell_type": "code",
      "metadata": {
        "id": "prqvI-e7L8zx",
        "colab_type": "code",
        "outputId": "60519e05-1949-4f98-c2b9-b395d914bd31",
        "colab": {
          "base_uri": "https://localhost:8080/",
          "height": 418
        }
      },
      "source": [
        "temp = dfo[\"quality\"].value_counts()\n",
        "df = pd.DataFrame({'quality': temp.index,'values': temp.values})\n",
        "plt.figure(figsize = (6,6))\n",
        "plt.title('Wine Quality Data Set - target value - data unbalance\\n (quality)')\n",
        "sns.set_color_codes(\"pastel\")\n",
        "sns.barplot(x = 'quality', y=\"values\", data=df)\n",
        "locs, labels = plt.xticks()\n",
        "plt.show()"
      ],
      "execution_count": 26,
      "outputs": [
        {
          "output_type": "display_data",
          "data": {
            "image/png": "[encoded data removed]",
            "text/plain": [
              "<Figure size 432x432 with 1 Axes>"
            ]
          },
          "metadata": {
            "tags": [],
            "needs_background": "light"
          }
        }
      ]
    },
    {
      "cell_type": "markdown",
      "metadata": {
        "id": "8rOL1kyJGa-B",
        "colab_type": "text"
      },
      "source": [
        "Vamos melhorar essa abordagem para saber se um vinho é bom ou ruim."
      ]
    },
    {
      "cell_type": "markdown",
      "metadata": {
        "id": "Q8b5IXuwWQFy",
        "colab_type": "text"
      },
      "source": [
        "Agora estamos verificando correlações. É uma parte importante do processo exploratório de análise de dados. Essa análise é um dos métodos usados para decidir quais recursos afetam mais a variável de destino e, por sua vez, são usados na previsão dessa variável de destino. Em outras palavras, é um método comumente usado para seleção de recursos no aprendizado de máquina.\n",
        "\n",
        "As correlações são úteis porque podem indicar um relacionamento preditivo que pode ser explorado na prática. Veja o gráfico abaixo para ver todas as correlações entre os recursos. Existem fortes correlações entre pagamentos. Todos os outros são fragilidade."
      ]
    },
    {
      "cell_type": "code",
      "metadata": {
        "id": "E0UpF20zjls3",
        "colab_type": "code",
        "outputId": "d98e8d35-e3a5-4a62-929e-47e56a077c75",
        "colab": {
          "base_uri": "https://localhost:8080/",
          "height": 968
        }
      },
      "source": [
        "corr = dfo.corr()\n",
        "mask = np.zeros_like(corr, dtype=np.bool)\n",
        "mask[np.triu_indices_from(mask)] = True\n",
        "f, ax = plt.subplots(figsize=(54, 15))\n",
        "# Generate a custom diverging colormap\n",
        "cmap = sns.diverging_palette(220, 10, as_cmap=True)\n",
        "\n",
        "# Draw the heatmap with the mask and correct aspect ratio\n",
        "sns.heatmap(corr, mask=mask, cmap=cmap, vmax=1, vmin=-1,center=0, annot=True,\n",
        "            square=True, linewidths=.5, cbar_kws={\"shrink\": .5})\n",
        "plt.imshow(corr)"
      ],
      "execution_count": 27,
      "outputs": [
        {
          "output_type": "execute_result",
          "data": {
            "text/plain": [
              "<matplotlib.image.AxesImage at 0x7f3ad9069828>"
            ]
          },
          "metadata": {
            "tags": []
          },
          "execution_count": 27
        },
        {
          "output_type": "display_data",
          "data": {
            "image/png": "[encoded data removed]",
            "text/plain": [
              "<Figure size 3888x1080 with 2 Axes>"
            ]
          },
          "metadata": {
            "tags": [],
            "needs_background": "light"
          }
        }
      ]
    },
    {
      "cell_type": "markdown",
      "metadata": {
        "id": "368AuX_-RDag",
        "colab_type": "text"
      },
      "source": [
        "Podemos ver o mesmo fenômeno sobre o par abaixo. correlação fraca entre a maioria dos recursos, mas forte correlação entre contas e pagamentos.\n",
        "\n",
        "* Para os valores numéricos, vamos representar a correlação de recursos.\n",
        "* A correlação está diminuindo com a distância entre meses. As correlações mais baixas são entre setembro e abril.\n",
        "* Não há correlações entre os valores dos pagamentos anteriores de abril a setembro de 2005.\n",
        "* A correlação está diminuindo com a distância entre meses. As correlações mais baixas são entre setembro e abril.\n",
        "\n",
        "**Veja abaixo**\n"
      ]
    },
    {
      "cell_type": "code",
      "metadata": {
        "id": "qlxTi5wilMYO",
        "colab_type": "code",
        "outputId": "1b6f7d43-1f74-4877-b158-38b9dbc8af2b",
        "colab": {
          "base_uri": "https://localhost:8080/",
          "height": 34
        }
      },
      "source": [
        "sns.pairplot(dfo)"
      ],
      "execution_count": 0,
      "outputs": [
        {
          "output_type": "execute_result",
          "data": {
            "text/plain": [
              "<seaborn.axisgrid.PairGrid at 0x7f3ada864828>"
            ]
          },
          "metadata": {
            "tags": []
          },
          "execution_count": 28
        }
      ]
    },
    {
      "cell_type": "markdown",
      "metadata": {
        "id": "e1pYvcHlNhGS",
        "colab_type": "text"
      },
      "source": [
        "### Valor do limite de crédito \n",
        "\n",
        "Vamos visualizar o gráfico de densidade para o valor do tipo de vinho agrupado por **quality**."
      ]
    },
    {
      "cell_type": "code",
      "metadata": {
        "id": "LgRZrdXL1_1g",
        "colab_type": "code",
        "colab": {}
      },
      "source": [
        "dfo['type'] = dfo['type'].map({'White': 1,'Red': 2}) "
      ],
      "execution_count": 0,
      "outputs": []
    },
    {
      "cell_type": "code",
      "metadata": {
        "id": "_n254ilRNp4r",
        "colab_type": "code",
        "colab": {}
      },
      "source": [
        "\n",
        "class_6 = dfo.loc[dfo['quality'] == 6][\"type\"]\n",
        "class_5 = dfo.loc[dfo['quality'] == 5][\"type\"]\n",
        "class_7 = dfo.loc[dfo['quality'] == 7][\"type\"]\n",
        "class_8 = dfo.loc[dfo['quality'] == 8][\"type\"]\n",
        "class_4 = dfo.loc[dfo['quality'] == 4][\"type\"]\n",
        "class_3 = dfo.loc[dfo['quality'] == 3][\"type\"]\n",
        "class_9 = dfo.loc[dfo['quality'] == 9][\"type\"]\n",
        "\n",
        "plt.figure(figsize = (10,6))\n",
        "plt.title('Valor quality x Tipo - Qualidade por tipo de vinho (gráfico de densidade)')\n",
        "sns.set_color_codes(\"pastel\")\n",
        "sns.distplot(class_6,kde=True,bins=5, color=\"red\")\n",
        "sns.distplot(class_5,kde=True,bins=5, color=\"green\")\n",
        "sns.distplot(class_7,kde=True,bins=5, color=\"blue\")\n",
        "sns.distplot(class_8,kde=True,bins=5, color=\"pink\")\n",
        "sns.distplot(class_4,kde=True,bins=5, color=\"yellow\")\n",
        "sns.distplot(class_3,kde=True,bins=5, color=\"brown\")\n",
        "sns.distplot(class_9,kde=True,bins=5, color=\"cyan\")\n",
        "plt.show()"
      ],
      "execution_count": 0,
      "outputs": []
    },
    {
      "cell_type": "markdown",
      "metadata": {
        "id": "eQUP46z_OCDq",
        "colab_type": "text"
      },
      "source": [
        "A maioria de *quality* é para vinhos tintos (Red) e a densidade desse intervalo é maior para *quality* do que para a classe 4. O número de *quality* maiores corresponde aos valores de $50$.\n"
      ]
    },
    {
      "cell_type": "markdown",
      "metadata": {
        "id": "sYlbvxyWl_FO",
        "colab_type": "text"
      },
      "source": [
        "## Outras estatísticas\n",
        "\n",
        "### Procurando multicolinearidade\n",
        "\n",
        "Em estatística, a multicolinearidade (também colinearidade) é um fenômeno em que uma variável preditora em um modelo de regressão múltipla pode ser prevista linearmente a partir de outras com um grau substancial de precisão. Nesta situação, as estimativas do coeficiente da regressão múltipla podem mudar erraticamente em resposta a pequenas mudanças no modelo ou nos dados. A multicolinearidade não reduz o poder preditivo ou a confiabilidade do modelo como um todo, pelo menos dentro do conjunto de dados de amostra; isso afeta apenas os cálculos referentes a preditores individuais. Ou seja, um modelo de regressão multivariado com preditores colineares pode indicar até que ponto todo o conjunto de preditores prediz a variável de resultado, mas pode não fornecer resultados válidos sobre qualquer preditor individual ou sobre quais preditores são redundantes em relação a outros.\n",
        "\n",
        "Valores de VIF que excedem US $ 10 $ são frequentemente considerados indicadores de multicolinearidade, mas em modelos mais fracos, valores acima de US $ 2,5 $ podem ser motivo de preocupação.\n"
      ]
    },
    {
      "cell_type": "code",
      "metadata": {
        "id": "8L8vX2wsl-OB",
        "colab_type": "code",
        "colab": {}
      },
      "source": [
        "import statsmodels.formula.api as smf\n",
        "from statsmodels.stats.outliers_influence import variance_inflation_factor\n",
        "\n",
        "y = dfo['quality']  # variavel dependente\n",
        "X = dfo.drop('quality', axis=1)\n",
        "\n",
        "vif = [variance_inflation_factor(X.values, i) for i in range(X.shape[1])]"
      ],
      "execution_count": 0,
      "outputs": []
    },
    {
      "cell_type": "code",
      "metadata": {
        "id": "8uHIc2z-qUiO",
        "colab_type": "code",
        "colab": {}
      },
      "source": [
        "cols = dfo.columns\n",
        "cols = cols[cols!='quality']\n",
        "pd.DataFrame(vif,cols,columns=['VIF'])"
      ],
      "execution_count": 0,
      "outputs": []
    },
    {
      "cell_type": "markdown",
      "metadata": {
        "id": "38IVl32ppePM",
        "colab_type": "text"
      },
      "source": [
        "**Interpretação**\n",
        "\n",
        "A raiz quadrada do fator de inflação da variância indica quanto maior o erro padrão aumenta em comparação com se essa variável teve correlação $0$ com outras variáveis preditivas no modelo.\n",
        "\n",
        "Em nosso exemplo para $chlorides$, o fator de inflação de variação de uma variável preditora foi de $5.014048$ ($√5.014048 = 2.2392$), isso significa que o erro padrão para o coeficiente dessa variável preditora é $2,23$ vezes maior do que se essa variável preditora tivesse correlação de $0$ com as outras variáveis preditoras.\n",
        "\n",
        "Não vamos tirar essas variáveis do modelo, pois faremos a calibração para anular qualquer influência."
      ]
    },
    {
      "cell_type": "markdown",
      "metadata": {
        "id": "3Qj7nw3XmRtb",
        "colab_type": "text"
      },
      "source": [
        "**Análise Residual**\n",
        "\n",
        "A diferença entre o valor observado da variável dependente ($ y $) e o valor previsto ($ ŷ $) é chamado de residual ($ e $). Cada ponto de dados possui um residual.\n",
        "\n",
        "Residual = Valor observado - Valor previsto $ e = y - ŷ $\n",
        "\n",
        "A soma e a média dos resíduos são iguais a zero. Ou seja, $ Σ ** e = 0 $ e $ e = 0 $."
      ]
    },
    {
      "cell_type": "code",
      "metadata": {
        "id": "Ld2qqRVwmUSm",
        "colab_type": "code",
        "colab": {}
      },
      "source": [
        "from sklearn.model_selection import train_test_split\n",
        "from sklearn.linear_model import Ridge\n",
        "from yellowbrick.regressor import ResidualsPlot\n",
        "\n",
        "Y = dfo[\"quality\"]\n",
        "X = dfo.drop(columns=['quality'])\n",
        "\n",
        "# Criando os dados de train e test\n",
        "X_train, X_test, y_train, y_test = train_test_split(X, Y, test_size=0.2, random_state=42)\n",
        "\n",
        "# Instanciando o modelo linear e o visualizador\n",
        "model = Ridge()\n",
        "visualizer = ResidualsPlot(model)\n",
        "\n",
        "visualizer.fit(X_train, y_train)  # Ajuste os dados de treinamento ao visualizador\n",
        "visualizer.score(X_test, y_test)  # Avaliando o modelo nos dados de teste"
      ],
      "execution_count": 0,
      "outputs": []
    },
    {
      "cell_type": "markdown",
      "metadata": {
        "id": "EheIn-qo9JVd",
        "colab_type": "text"
      },
      "source": [
        "Os resíduos, no contexto dos modelos de regressão, são a diferença entre o valor observado da variável de destino ($ y $) e o valor previsto ($ ŷ $), ou seja, o erro da previsão. \n",
        "\n",
        "O gráfico de resíduos mostra a diferença entre os resíduos no eixo vertical e a variável dependente no eixo horizontal, permitindo detectar regiões no destino que podem ser suscetíveis a mais ou menos erros."
      ]
    },
    {
      "cell_type": "markdown",
      "metadata": {
        "id": "llviyP9Z9V4P",
        "colab_type": "text"
      },
      "source": [
        "Um uso comum do gráfico de resíduos é analisar a variação do erro do regressor. Os pontos são dispersos aleatoriamente em torno do eixo horizontal; um modelo de regressão linear é geralmente apropriado para os dados; caso contrário, um modelo não linear é mais apropriado.\n",
        "\n",
        "No caso acima, vemos uma distribuição uniforme e aleatória dos resíduos em relação ao alvo em duas dimensões. Isso parece indicar que nosso modelo linear não está funcionando bem. Também podemos ver no histograma que nosso erro é  distribuído em torno de $0,16$, o que geralmente também indica um modelo não está ajustado."
      ]
    },
    {
      "cell_type": "code",
      "metadata": {
        "id": "BqyzE15xr519",
        "colab_type": "code",
        "colab": {}
      },
      "source": [
        "Y = dfo[\"quality\"]\n",
        "X = dfo.drop(columns=['quality','type','fixed_acidity','volatile_acidity','citric_acid','total_sulfur_dioxide','pH','sulphates'])\n",
        "\n",
        "# Criando os dados de train e test\n",
        "X_train, X_test, y_train, y_test = train_test_split(X, Y, test_size=0.2, random_state=42)\n",
        "\n",
        "# Instanciando o modelo linear e o visualizador\n",
        "model = Ridge()\n",
        "visualizer = ResidualsPlot(model)\n",
        "\n",
        "visualizer.fit(X_train, y_train)  # Ajuste os dados de treinamento ao visualizador\n",
        "visualizer.score(X_test, y_test)  # Avaliando o modelo nos dados de teste"
      ],
      "execution_count": 0,
      "outputs": []
    },
    {
      "cell_type": "code",
      "metadata": {
        "id": "OSudGOjPu-uq",
        "colab_type": "code",
        "colab": {}
      },
      "source": [
        "import statsmodels.formula.api as smf\n",
        "cols = X.columns\n",
        "formule = \" + \".join(map(str, cols))\n",
        "formule = \"quality ~ \" + formule"
      ],
      "execution_count": 0,
      "outputs": []
    },
    {
      "cell_type": "code",
      "metadata": {
        "id": "2hUBn00qygxs",
        "colab_type": "code",
        "colab": {}
      },
      "source": [
        "reg = smf.ols(formule, data = dfo)\n",
        "res = reg.fit()\n",
        "print(res.summary())"
      ],
      "execution_count": 0,
      "outputs": []
    },
    {
      "cell_type": "markdown",
      "metadata": {
        "id": "POx4aUQN92lJ",
        "colab_type": "text"
      },
      "source": [
        "Isso significa que $5%$ da variância de $quality$, é explicada pela variância de $X$. Uma regressão não tem poder suficiente para classificar essa distribuição do tipo multinomial."
      ]
    },
    {
      "cell_type": "markdown",
      "metadata": {
        "id": "qdq1LNmf9lfm",
        "colab_type": "text"
      },
      "source": [
        "**Vamos retornar os valores originais para o tipo de vinho.**"
      ]
    },
    {
      "cell_type": "code",
      "metadata": {
        "id": "T1vg41-Y6I9W",
        "colab_type": "code",
        "colab": {}
      },
      "source": [
        "dfo['type'] = dfo['type'].map({1: 'White',2: 'Red'}) "
      ],
      "execution_count": 0,
      "outputs": []
    },
    {
      "cell_type": "markdown",
      "metadata": {
        "id": "-bpYE1SL9u0n",
        "colab_type": "text"
      },
      "source": [
        "## Modelagem"
      ]
    },
    {
      "cell_type": "markdown",
      "metadata": {
        "id": "3P7S1CZhZ0GX",
        "colab_type": "text"
      },
      "source": [
        "Em probabilidade e estatística, a distribuição multinomial é uma generalização da distribuição binomial. A distribuição multinomial dá a probabilidade de qualquer combinação particular de número de sucessos para as diferentes categorias ou classes.\n",
        "\n",
        "Para selecionar o melhor modelo, usaremos métricas:\n",
        "\n",
        "* AUC - Calculada como uma área que varia de 0 a 1, mas a interpretação do valor da AUC é uma probabilidade . Probabilidade de que, se fizermos duas observações de nossas previsões, elas serão ordenadas da maneira correta.\n",
        "* RMSE - Raiz quadrada do erro médio quadrático normalizado. Quanto melhor o ajuste entre os dados gerados pelas estratégias, mais próximo de zero quanto melhor for o ajuste. \n",
        "* Acurácia - A pergunta que a acurácia responde é a seguinte: no geral, o quão frequente o classificador está correto?\n",
        "\n",
        "As outras métricas (F1, Precision, Recall e AIC) são boas para distribuições binomiais e não serão abordadas nesse contexto.\n"
      ]
    },
    {
      "cell_type": "markdown",
      "metadata": {
        "id": "P_jGV66qQJpm",
        "colab_type": "text"
      },
      "source": [
        "### AutoML: Automatic Machine Learning\n",
        "\n",
        "A interface do H2O AutoML foi projetada para ter o menor número possível de parâmetros, de modo que tudo que o usuário precisa é apontar para o conjunto de dados, identificar a coluna de resposta e, opcionalmente, especificar uma restrição de tempo ou limite no número total de modelos treinados.\n",
        "\n",
        "Há outra biblioteca de AutoML. Escolhemos *H2O* por ser parte da **AWS Marketplace** que fornece uma maneira direta de implantar um cluster de VMs com H2O.\n",
        "\n",
        "Podemos usar tabmém:\n",
        "\n",
        "O **Auto-sklearn** fornece aprendizado de máquina supervisionado pronto para uso. Construído em torno da biblioteca de aprendizado de máquina do scikit-learn, o auto-sklearn pesquisa automaticamente o algoritmo de aprendizado correto para um novo conjunto de dados de aprendizado de máquina e otimiza seus hiperparâmetros. Assim, libera o praticante de aprendizado de máquina dessas tarefas tediosas e permite que ele se concentre no problema real.\n",
        "\n",
        "[AUTO-SKLEARN](https://www.automl.org/automl/auto-sklearn/)\n",
        "\n",
        "H2O foi escolhido aqui por ter maior performance de execução. Já realizei avaliações de desempenho e H2O tem se mostrado mais performático."
      ]
    },
    {
      "cell_type": "markdown",
      "metadata": {
        "id": "e7ysAg4j5ugE",
        "colab_type": "text"
      },
      "source": [
        "### Parsing\n",
        "\n",
        "O parsing do Data Frame original para o modelo do *H2O* é necessário."
      ]
    },
    {
      "cell_type": "code",
      "metadata": {
        "id": "WooUjq9aNpYi",
        "colab_type": "code",
        "colab": {}
      },
      "source": [
        "df = h2o.H2OFrame(dfo)"
      ],
      "execution_count": 0,
      "outputs": []
    },
    {
      "cell_type": "markdown",
      "metadata": {
        "id": "YxAtOxhDYV6A",
        "colab_type": "text"
      },
      "source": [
        "Validando o novo Data Frame"
      ]
    },
    {
      "cell_type": "code",
      "metadata": {
        "id": "qWxqH8EyN8Wl",
        "colab_type": "code",
        "colab": {}
      },
      "source": [
        "df.head()"
      ],
      "execution_count": 0,
      "outputs": []
    },
    {
      "cell_type": "markdown",
      "metadata": {
        "id": "VsgIarzSP3rR",
        "colab_type": "text"
      },
      "source": [
        "### Dividindo os dados em treinamento, validação e teste\n",
        "\n",
        "O conjunto de **treinamento** contém uma saída conhecida e o modelo aprende sobre esses dados para ser generalizado para outros dados posteriormente. \n",
        "\n",
        "Os dados de **validação** serão usados para o ajuste dos parametros do modelo e verificar se o mesmo aprendeu o suficiente.\n",
        "\n",
        "Os dasos de **teste** são usados para eliminar a chance de overfiting e são usados em última instância.\n",
        "\n",
        "Temos o conjunto de dados de teste (ou subconjunto) para testar a previsão do nosso modelo nesse subconjunto.\n",
        "\n",
        "A variável *quality* ou preditora deve ser uma variável do tipo *factor*. Fazemos a conversão aqui."
      ]
    },
    {
      "cell_type": "code",
      "metadata": {
        "id": "s6adFGH7Ny5v",
        "colab_type": "code",
        "colab": {}
      },
      "source": [
        "train, valid, test = df.split_frame(ratios=[0.7, 0.2], seed=1234)\n"
      ],
      "execution_count": 0,
      "outputs": []
    },
    {
      "cell_type": "markdown",
      "metadata": {
        "id": "NBagJvQnDiU_",
        "colab_type": "text"
      },
      "source": [
        "### Os algoritmos que podem ser especificados incluem:\n",
        "\n",
        "* DRF (incluindo os modelos Random Forest e Extremely Randomized Trees (XRT)\n",
        "* GLM - Generalized linear model\n",
        "* XGBoost (XGBoost GBM)\n",
        "* GBM (H2O GBM) - Gradient boosting\n",
        "* DeepLearning (rede neural artificial multicamada totalmente conectada)\n",
        "* StackedEnsemble"
      ]
    },
    {
      "cell_type": "code",
      "metadata": {
        "id": "-vkMwW16OGHu",
        "colab_type": "code",
        "colab": {}
      },
      "source": [
        "from h2o.automl import H2OAutoML, get_leaderboard\n",
        "from h2o.estimators.glm import H2OGeneralizedLinearEstimator\n",
        "\n",
        "aml = H2OAutoML(max_models=20, max_runtime_secs=60, seed=1, include_algos = [\"GLM\", \"DeepLearning\", \"DRF\",\"xGBoost\",\"StackedEnsemble\"])\n",
        "\n",
        "y = \"quality\"\n",
        "x = list(dfo.columns).remove(y)"
      ],
      "execution_count": 0,
      "outputs": []
    },
    {
      "cell_type": "code",
      "metadata": {
        "id": "bBzdyUSoC8Ga",
        "colab_type": "code",
        "colab": {}
      },
      "source": [
        "aml.train(x=x, y=y, training_frame=train,validation_frame=valid)"
      ],
      "execution_count": 0,
      "outputs": []
    },
    {
      "cell_type": "markdown",
      "metadata": {
        "id": "Tvv0junWS1Mq",
        "colab_type": "text"
      },
      "source": [
        "### AutoML - Resultado\n",
        "\n",
        "Os modelos são classificados por uma métrica padrão com base no tipo de problema (a segunda coluna do placar). Nos problemas de classificação binária, essa métrica é *AUC*, e nos problemas de classificação em várias classes, a métrica é o erro médio por classe. \n",
        "\n",
        "Em problemas de regressão, a métrica de classificação padrão é desvio."
      ]
    },
    {
      "cell_type": "code",
      "metadata": {
        "id": "aaiNmdnoOK5X",
        "colab_type": "code",
        "colab": {}
      },
      "source": [
        "lb = get_leaderboard(aml, extra_columns='ALL')\n",
        "lb.head(rows=lb.nrows)"
      ],
      "execution_count": 0,
      "outputs": []
    },
    {
      "cell_type": "markdown",
      "metadata": {
        "id": "EQbU8x5QagxL",
        "colab_type": "text"
      },
      "source": [
        "### O vencedor\n",
        "\n",
        "O XGBoost é um algoritmo de aprendizado supervisionado que implementa um processo chamado impulso para gerar modelos precisos. Impulsionar refere-se à técnica de aprendizado por conjunto de construção de vários modelos sequencialmente, com cada novo modelo tentando corrigir as deficiências no modelo anterior. No aumento de árvore, cada novo modelo adicionado ao conjunto é uma árvore de decisão. O XGBoost fornece aumento de árvore paralelo (também conhecido como GBDT, GBM) que resolve muitos problemas de ciência de dados de maneira rápida e precisa. Para muitos problemas, o XGBoost é uma das melhores estruturas da máquina de aumento de gradiente (GBM) atualmente.\n",
        "\n",
        "[Os modelos XGBoost dominam muitas competições do Kaggle.](https://www.kaggle.com/dansbecker/xgboost)\n",
        "\n",
        "[Veja mais detalhes aqui](http://docs.h2o.ai/h2o/latest-stable/h2o-docs/data-science/xgboost.html)\n",
        "\n",
        "[AWS](http://docs.h2o.ai/h2o/latest-stable/h2o-docs/cloud-integration/aws.html)"
      ]
    },
    {
      "cell_type": "markdown",
      "metadata": {
        "id": "KJ5KjgIWMBA9",
        "colab_type": "text"
      },
      "source": [
        "## Stacked Ensembles\n",
        "\n",
        "[AWS H2O](http://docs.h2o.ai/h2o/latest-stable/h2o-docs/data-science/stacked-ensembles.html?highlight=stackedensemble)\n",
        "\n",
        "O **Stacking**, também chamado de **Super Learning** ou **Stacked Regression**, é uma classe de algoritmos que envolve o treinamento de um \"aprendiz de metal\" de segundo nível para encontrar a combinação ideal dos alunos de base. Ao contrário do ensacamento e do reforço, o objetivo do empilhamento é reunir conjuntos fortes e diversos de alunos.\n",
        "\n",
        "**Sklearn também tem**\n",
        "\n",
        "[sklearn.ensemble.StackingClassifier](https://scikit-learn.org/stable/modules/generated/sklearn.ensemble.StackingClassifier.html)\n",
        "\n",
        "Stacked generalization consiste em empilhar a saída do estimador individual e usar um classificador para calcular a previsão final. O empilhamento permite usar a força de cada estimador individual usando sua saída como entrada de um estimador final.\n",
        "\n"
      ]
    },
    {
      "cell_type": "code",
      "metadata": {
        "id": "yy2SboRidAaq",
        "colab_type": "code",
        "colab": {}
      },
      "source": [
        "from h2o.estimators.random_forest import H2ORandomForestEstimator\n",
        "from h2o.estimators.gbm import H2OGradientBoostingEstimator\n",
        "from h2o.estimators.stackedensemble import H2OStackedEnsembleEstimator\n",
        "from h2o.grid.grid_search import H2OGridSearch\n",
        "from __future__ import print_function\n",
        "h2o.init()\n",
        "\n",
        "\n",
        "# Identificar preditores e resposta\n",
        "x = train.columns\n",
        "y = \"quality\"\n",
        "x.remove(y)\n",
        "\n",
        "# Para classificação binária, a resposta deve ser um factor\n",
        "train[y] = train[y].asfactor()\n",
        "test[y] = test[y].asfactor()\n",
        "\n",
        "# Número de folds (para gerar dados de nível um para stacking)\n",
        "nfolds = 5\n",
        "\n",
        "# Existem algumas maneiras de montar uma lista de modelos para stacking:\n",
        "# 1. Treine modelos individuais e coloque-os em uma lista\n",
        "# 2. Treine uma grade de modelos\n",
        "# 3. Treine várias grades de modelos <<=\n",
        "# Nota: Todos os modelos de base devem ter as mesmos números de folds \n",
        "# de validação cruzada e os valores previstos de cross-validation \n",
        "# devem ser mantidos.\n",
        "\n",
        "\n",
        "# 1. Gerando 2-model ensemble (GBM + RF)\n",
        "\n",
        "# Train e cross-validate para um GBM\n",
        "my_gbm = H2OGradientBoostingEstimator(distribution=\"multinomial\",\n",
        "                                      ntrees=10,\n",
        "                                      max_depth=3,\n",
        "                                      min_rows=2,\n",
        "                                      learn_rate=0.2,\n",
        "                                      nfolds=nfolds,\n",
        "                                      fold_assignment=\"Modulo\",\n",
        "                                      keep_cross_validation_predictions=True,\n",
        "                                      seed=1)\n",
        "my_gbm.train(x=x, y=y, training_frame=train)\n",
        "\n",
        "\n",
        "# Train e cross-validate para um RF\n",
        "my_rf = H2ORandomForestEstimator(ntrees=50,\n",
        "                                 nfolds=nfolds,\n",
        "                                 fold_assignment=\"Modulo\",\n",
        "                                 keep_cross_validation_predictions=True,\n",
        "                                 seed=1)\n",
        "my_rf.train(x=x, y=y, training_frame=train)\n",
        "\n",
        "\n",
        "# Train um stacked ensemble usando o GBM e  GLM abaixo\n",
        "ensemble = H2OStackedEnsembleEstimator(model_id=\"my_ensemble_multinomial\",\n",
        "                                       base_models=[my_gbm, my_rf])\n",
        "ensemble.train(x=x, y=y, training_frame=train)\n",
        "\n",
        "# Avaliando o desempenho do conjunto nos dados de teste\n",
        "perf_stack_test = ensemble.model_performance(test)\n",
        "\n"
      ],
      "execution_count": 0,
      "outputs": []
    },
    {
      "cell_type": "code",
      "metadata": {
        "id": "I0EEVEC2Uo-z",
        "colab_type": "code",
        "colab": {}
      },
      "source": [
        "# Avaliando o desempenho do conjunto nos dados de teste\n",
        "perf_stack_test = ensemble.model_performance(test)\n",
        "\n",
        "# Comparando com o desempenho básico do learner no conjunto de testes\n",
        "perf_gbm_test = my_gbm.model_performance(test)\n",
        "perf_rf_test = my_rf.model_performance(test)"
      ],
      "execution_count": 0,
      "outputs": []
    },
    {
      "cell_type": "markdown",
      "metadata": {
        "id": "IdT7IzKXtWgv",
        "colab_type": "text"
      },
      "source": [
        "Recuperando o erro médio por classe em todas as classes.\n",
        "\n",
        "É o erro médio por classe (apenas na classificação de várias classes) é a média dos erros de cada classe no seu conjunto de dados de várias classes. Essa métrica refere-se à classificação incorreta dos dados nas classes."
      ]
    },
    {
      "cell_type": "code",
      "metadata": {
        "id": "2srWqVKGVbO6",
        "colab_type": "code",
        "colab": {}
      },
      "source": [
        "perf_gbm_test.mean_per_class_error()"
      ],
      "execution_count": 0,
      "outputs": []
    },
    {
      "cell_type": "markdown",
      "metadata": {
        "id": "Haw2SFCafGDx",
        "colab_type": "text"
      },
      "source": [
        "**AUC**\n",
        "\n",
        "A AUC é calculada como uma área que varia de 0 a 1, mas a interpretação do valor da AUC é uma probabilidade . Probabilidade de que, se fizermos duas observações de nossas previsões, elas serão ordenadas da maneira correta.\n"
      ]
    },
    {
      "cell_type": "code",
      "metadata": {
        "id": "tWZV-TDNUrRq",
        "colab_type": "code",
        "colab": {}
      },
      "source": [
        "baselearner_best_auc_test = max(perf_gbm_test.mean_per_class_error(), perf_rf_test.mean_per_class_error())\n",
        "print(\"Best Base-learner Test AUC:  {0}\".format(baselearner_best_auc_test))"
      ],
      "execution_count": 0,
      "outputs": []
    },
    {
      "cell_type": "code",
      "metadata": {
        "id": "aPhmw5kKGARA",
        "colab_type": "code",
        "colab": {}
      },
      "source": [
        "perf_gbm_test.confusion_matrix()"
      ],
      "execution_count": 0,
      "outputs": []
    },
    {
      "cell_type": "code",
      "metadata": {
        "id": "i4ycX-WuCwSX",
        "colab_type": "code",
        "colab": {}
      },
      "source": [
        "print(\"Best Base-learner Acurácia:\",perf_gbm_test.confusion_matrix()[7][7])"
      ],
      "execution_count": 0,
      "outputs": []
    },
    {
      "cell_type": "markdown",
      "metadata": {
        "id": "6pXno3HdftwV",
        "colab_type": "text"
      },
      "source": [
        "Apesar do balanceamento para o treinamento, o modelo parece ter falhado ao ser submetido a uma validação."
      ]
    },
    {
      "cell_type": "code",
      "metadata": {
        "id": "6G_RvTZUIomh",
        "colab_type": "code",
        "colab": {}
      },
      "source": [
        "# 2. Gere uma grade aleatória de modelos e empilhando-os\n",
        "\n",
        "# Specify GBM hyperparameters for the grid\n",
        "hyper_params = {\"learn_rate\": [0.01, 0.03], # Taxa de aprendizado, + arvores - overfitting\n",
        "                \"max_depth\": [3, 4, 5, 6, 9], # profundidade máxima em que cada árvore será construída\n",
        "                \"sample_rate\": [0.7, 0.8, 0.9, 1.0], # taxa de amostragem da linha (eixo x) (sem substituição)\n",
        "                \"col_sample_rate\": [0.2, 0.3, 0.4, 0.5, 0.6, 0.7, 0.8]} # taxa de amostragem da coluna (eixo y) (sem substituição)\n",
        "                \n",
        "search_criteria = {\"strategy\": \"RandomDiscrete\", \"max_models\": 3, \"seed\": 1}\n",
        "\n",
        "# Train e grid\n",
        "grid = H2OGridSearch(model=H2OGradientBoostingEstimator(ntrees=10,\n",
        "                                                        seed=1,\n",
        "                                                        nfolds=nfolds,\n",
        "                                                        fold_assignment=\"Modulo\",\n",
        "                                                        keep_cross_validation_predictions=True),\n",
        "                     hyper_params=hyper_params,\n",
        "                     search_criteria=search_criteria,\n",
        "                     grid_id=\"gbm_grid\")\n",
        "grid.train(x=x, y=y, training_frame=train)\n",
        "\n",
        "# Train um stacked ensemble usando o GBM grid\n",
        "ensemble = H2OStackedEnsembleEstimator(model_id=\"my_ensemble_gbm\",\n",
        "                                       base_models=grid.model_ids)\n",
        "ensemble.train(x=x, y=y, training_frame=train)\n",
        "\n",
        "# Avaliando o desempenho do conjunto nos dados de teste\n",
        "perf_stack_test = ensemble.model_performance(test)"
      ],
      "execution_count": 0,
      "outputs": []
    },
    {
      "cell_type": "code",
      "metadata": {
        "id": "RCS3wgUaX4IM",
        "colab_type": "code",
        "colab": {}
      },
      "source": [
        "# Comparando com o desempenho básico do learner no conjunto de testes\n",
        "baselearner_best_auc_test = max([h2o.get_model(model).model_performance(test).rmse() for model in grid.model_ids])\n",
        "stack_auc_test = perf_stack_test.rmse()\n",
        "print(\"Best Base-learner Test AUC:  {0}\".format(baselearner_best_auc_test))\n",
        "print(\"Ensemble Test AUC:  {0}\".format(stack_auc_test))"
      ],
      "execution_count": 0,
      "outputs": []
    },
    {
      "cell_type": "markdown",
      "metadata": {
        "id": "6c2OoOLjfTT8",
        "colab_type": "text"
      },
      "source": [
        "## Abordagem Tradicional\n",
        "\n",
        "Vamos usar aqui o processamento manual para avaliar as diferenças."
      ]
    },
    {
      "cell_type": "markdown",
      "metadata": {
        "id": "z3cEMQKxKosl",
        "colab_type": "text"
      },
      "source": [
        "### Balanceamento de Classes\n",
        "\n",
        "O parâmetro **balance_classes=True** no código abaixo fornece suporte para a amostra que temos com classes desbalanceadas."
      ]
    },
    {
      "cell_type": "code",
      "metadata": {
        "id": "m7J-UIDNPIej",
        "colab_type": "code",
        "colab": {}
      },
      "source": [
        "from h2o.estimators.gbm import H2OGradientBoostingEstimator\n",
        "\n",
        "# função para configurar parâmetros para trabalhar com o modelo H2O xGBoost\n",
        "def setDRFParam(ntrees=200,                   # número de árvores a serem construídas no modelo\n",
        "                max_depth=20,                 # profundidade máxima em que cada árvore será construída\n",
        "                balance_classes=True,         # pode ser usada para equilibrar a distribuição de classes\n",
        "                sample_rate=0.75,             # usado para especificar a taxa de amostragem da linha (eixo x) (sem substituição)\n",
        "                col_sample_rate_per_tree=0.8, # especifica a taxa de amostragem da coluna para cada árvore (sem substituição))\n",
        "                min_rows=5,                   # número mínimo de observações para uma folha para dividir\n",
        "                seed=3333,                    # random number generator (RNG)\n",
        "                score_tree_interval=5,        # parada antecipada e tentativa de tornar a parada antecipada reproduzível\n",
        "                calibrate_model=False,        # especificação da escala de Platt no DRF para probabilidades de classe calibradas\n",
        "                categorical_encoding=\"one_hot_explicit\", # esquema de codificação a ser usado para lidar com recursos categóricos\n",
        "                distribution=\"multinomial\",     # no nosso caso, a coluna de resposta deve ser categórica de n classes\n",
        "                fold_assignment=\"Stratified\", # validação cruzada - é melhor para grandes conjuntos de dados = auto = random\n",
        "                histogram_type=\"auto\",        # é comumente usado para acelerar o processo de k-fold\n",
        "                keep_cross_validation_predictions=True, # A validação cruzada N-fold é usada para validar um modelo internamente\n",
        "                nfolds=5):\n",
        "   \n",
        "        param = {\n",
        "              \"ntrees\" : ntrees                                      \n",
        "            , \"max_depth\" : max_depth                                \n",
        "            , \"balance_classes\" : balance_classes                    \n",
        "            , \"sample_rate\" : sample_rate\n",
        "            , \"col_sample_rate_per_tree\" : col_sample_rate_per_tree\n",
        "            , \"min_rows\" : min_rows\n",
        "            , \"seed\": seed\n",
        "            , \"score_tree_interval\": score_tree_interval\n",
        "            , \"calibrate_model\": calibrate_model\n",
        "            , \"categorical_encoding\": categorical_encoding\n",
        "            , \"distribution\": distribution\n",
        "            , \"fold_assignment\": fold_assignment\n",
        "            , \"histogram_type\": histogram_type\n",
        "            , \"nfolds\": nfolds\n",
        "        }\n",
        "        return(param)"
      ],
      "execution_count": 0,
      "outputs": []
    },
    {
      "cell_type": "markdown",
      "metadata": {
        "id": "bc5kk5nfC1Vj",
        "colab_type": "text"
      },
      "source": [
        "### Validação Cruzada\n",
        "\n",
        "A validação cruzada é uma técnica para avaliar a capacidade de generalização de um modelo, a partir de um conjunto de dados. Esta técnica é amplamente empregada em problemas onde o objetivo da modelagem é a predição. \n",
        "\n",
        "O método de validação cruzada denominado $k-fold$ consiste em dividir o conjunto total de dados em k subconjuntos mutuamente exclusivos do mesmo tamanho e, a partir daí, um subconjunto é utilizado para teste e os $k-1$ restantes são utilizados para estimação dos parâmetros, fazendo-se o cálculo da acurácia do modelo. Este processo é realizado $k$ vezes alternando de forma circular o subconjunto de teste. \n",
        "\n",
        "Nesse experimento usamos $K$ com o valor de $5$, pois a quantidade de observações é pequena.\n",
        "\n",
        "[Wikipédia](https://pt.wikipedia.org/wiki/Valida%C3%A7%C3%A3o_cruzada)"
      ]
    },
    {
      "cell_type": "code",
      "metadata": {
        "id": "jxud-r13UPw2",
        "colab_type": "code",
        "colab": {}
      },
      "source": [
        "df['quality'] = df['quality'].asfactor()\n",
        "train, valid = df.split_frame(ratios= [.7], seed = 1234)\n",
        "response = 'quality'\n",
        "predictors = df.columns\n",
        "histogram_type = 'auto'\n",
        "categorical_encoding = 'auto'\n"
      ],
      "execution_count": 0,
      "outputs": []
    },
    {
      "cell_type": "markdown",
      "metadata": {
        "id": "TlQYfrmUd2Jo",
        "colab_type": "text"
      },
      "source": [
        "### Numero de arvores\n",
        "\n",
        "Alterando o parâmetro *ntrees* para $50$ e *max_depth* para $20$\n",
        "\n",
        "Para algoritmos baseados em árvore, esta opção especifica o número de árvores a serem construídas no modelo. Nos modelos baseados em árvore, cada nó na árvore corresponde a um campo de recurso de um conjunto de dados. Exceto pelo nó superior, cada nó tem uma ramificação de entrada. Da mesma forma, exceto no nó inferior (ou nó folha), cada nó possui um número de ramificações de saída. Uma ramificação representa um valor possível para o campo de entrada do conjunto de dados de origem. Uma folha representa o valor do campo objetivo, dados todos os valores para cada campo de entrada na cadeia de ramificações que vão da raiz (superior) para essa folha."
      ]
    },
    {
      "cell_type": "code",
      "metadata": {
        "id": "I2qGS6E6Urn9",
        "colab_type": "code",
        "colab": {}
      },
      "source": [
        "param = setDRFParam(ntrees=50, max_depth=20,histogram_type=histogram_type,categorical_encoding=categorical_encoding)\n",
        "model_xGBoost50 = H2OGradientBoostingEstimator(**param)\n",
        "model_xGBoost50.train(x=predictors, y=response, training_frame=train,validation_frame = valid)"
      ],
      "execution_count": 0,
      "outputs": []
    },
    {
      "cell_type": "markdown",
      "metadata": {
        "id": "4gdPepSieCWu",
        "colab_type": "text"
      },
      "source": [
        "Alterando o parâmetro *ntrees* para $200$ e *max_depth* para $40$\n",
        "\n",
        "Podemos tentar muitas configurações usando um loop para muitos valores, começando em $50$ a $600$ para ver quais são os melhores resultados. \n",
        "\n",
        "Por enquanto, neste experimento, tentamos apenas dois."
      ]
    },
    {
      "cell_type": "code",
      "metadata": {
        "id": "6RjRlslIcCX2",
        "colab_type": "code",
        "colab": {}
      },
      "source": [
        "param = setDRFParam(ntrees=200, max_depth=10,histogram_type=histogram_type,categorical_encoding=categorical_encoding)\n",
        "model_xGBoost200 = H2OGradientBoostingEstimator(**param)\n",
        "model_xGBoost200.train(x=predictors, y=response, training_frame=train, validation_frame = valid)"
      ],
      "execution_count": 0,
      "outputs": []
    },
    {
      "cell_type": "markdown",
      "metadata": {
        "id": "3rAvM8vnfura",
        "colab_type": "text"
      },
      "source": [
        "### Salvando os modelos para ter acesso posterior\n",
        "\n",
        "Ao salvar um modelo binário de H2O com *h2o.save_model* ou no Flow, você só poderá carregar e usar esse modelo binário salvo com a mesma versão do H2O usada para treinar seu modelo.\n",
        "\n",
        "Isso é importante, pois se treinarmos vários modelos poderemos acessar interativamente esse modelos e analisar de forma comparativa, como veremos mais abaixo. \n",
        "\n",
        "Podemos inclusive criar históricos de modelos ao longo de sua evolução. \n"
      ]
    },
    {
      "cell_type": "code",
      "metadata": {
        "id": "nsytcaO5fzIU",
        "colab_type": "code",
        "colab": {}
      },
      "source": [
        "import os\n",
        "\n",
        "model_path = h2o.save_model(model=model_xGBoost50, path='.', force=True)\n",
        "os.rename(model_path,os.path.split(model_path)[0]+'/xGBoost50')\n",
        "model_path = h2o.save_model(model=model_xGBoost200, path='.', force=True)\n",
        "os.rename(model_path,os.path.split(model_path)[0]+'/xGBoost200')\n"
      ],
      "execution_count": 0,
      "outputs": []
    },
    {
      "cell_type": "code",
      "metadata": {
        "id": "WdL-3TRUa3Gg",
        "colab_type": "code",
        "colab": {}
      },
      "source": [
        "def showModel(modelImp,Var_Importance,Confusion_Matrix,Hit_Ratio,Range,Plot_Metric):\n",
        "    model = h2o.load_model(modelImp)\n",
        "    baselearner_best_auc_test = max([h2o.get_model(model).model_performance(test).rmse() for model in grid.model_ids])\n",
        "    stack_auc_test = perf_stack_test.rmse()\n",
        "    print(\"Model : {0} \".format(modelImp))\n",
        "    print(\"AUC: {0}\".format(model.confusion_matrix(valid)[7][7]))\n",
        "\n",
        "    if Confusion_Matrix:\n",
        "        print(model.confusion_matrix(valid))\n",
        "\n",
        "    if Var_Importance:\n",
        "        model.varimp_plot()\n",
        "    else:\n",
        "        varimpDF = model.varimp(True)\n",
        "        print(varimpDF[varimpDF['scaled_importance'] >= Range])\n",
        "\n",
        "    if Hit_Ratio:\n",
        "        print(model.hit_ratio_table(valid=True))\n",
        "\n",
        "    if Plot_Metric:\n",
        "        model.plot(metric=\"AUTO\", timestep=\"AUTO\")\n",
        "        "
      ],
      "execution_count": 0,
      "outputs": []
    },
    {
      "cell_type": "code",
      "metadata": {
        "id": "hgDs0jmog7Rt",
        "colab_type": "code",
        "colab": {}
      },
      "source": [
        "models = ['xGBoost50','xGBoost200']"
      ],
      "execution_count": 0,
      "outputs": []
    },
    {
      "cell_type": "markdown",
      "metadata": {
        "id": "FpPms5gpVRcR",
        "colab_type": "text"
      },
      "source": [
        "### Desempenho do Modelo\n",
        "\n",
        "O H2O-3 fornece uma variedade de métricas que podem ser usadas para avaliar modelos supervisionados e não supervisionados. \n",
        "\n",
        "As métricas desta seção cobrem apenas modelos de aprendizado supervisionado, que variam com base no tipo de modelo (classificação ou regressão). No momento, mostramos apenas o desempenho da classificação, que é o nosso foco.\n",
        "\n"
      ]
    },
    {
      "cell_type": "markdown",
      "metadata": {
        "id": "jzg6yRX2VYVD",
        "colab_type": "text"
      },
      "source": [
        "### Usando o Interact\n",
        "\n",
        "A função de interação (ipywidgets.interact) cria automaticamente controles da interface do usuário (UI) para explorar códigos e dados de maneira interativa. É a maneira mais fácil de começar a usar os widgets do IPython."
      ]
    },
    {
      "cell_type": "code",
      "metadata": {
        "id": "6_VAxN3HaoVm",
        "colab_type": "code",
        "colab": {}
      },
      "source": [
        "interact(showModel,modelImp=models,\n",
        "         Var_Importance=True,\n",
        "         Confusion_Matrix=False,\n",
        "         Cross_Validation=False,\n",
        "         Hit_Ratio=False,\n",
        "         Range=widgets.FloatSlider(min=0.0, max=1.0, step=0.01, value=0.1),\n",
        "         Plot_Metric=False)"
      ],
      "execution_count": 0,
      "outputs": []
    },
    {
      "cell_type": "markdown",
      "metadata": {
        "id": "gLgDhvefokfk",
        "colab_type": "text"
      },
      "source": [
        "## Conclusão\n",
        "\n",
        "Veja no documento clicando [aqui](https://github.com/dbranquinho/wine/blob/master/LopesBin.ipynb)"
      ]
    }
  ]
}