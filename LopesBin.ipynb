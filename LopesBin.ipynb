{
  "nbformat": 4,
  "nbformat_minor": 0,
  "metadata": {
    "colab": {
      "name": "LopesBin.ipynb",
      "provenance": [],
      "collapsed_sections": []
    },
    "kernelspec": {
      "name": "python3",
      "display_name": "Python 3"
    }
  },
  "cells": [
    {
      "cell_type": "markdown",
      "metadata": {
        "id": "NQPcz-oU-2w_",
        "colab_type": "text"
      },
      "source": [
        "## Introdução\n",
        "\n",
        "O presente problema se refere aos dados de vinhos portugueses\n",
        "\"Vinho Verde\", que possuem variantes de vinho branco e tinto.\n",
        "Devido a questões de privacidade, apenas variáveis\n",
        "físico-químicas (input) e sensoriais (output) estão disponíveis (por\n",
        "exemplo, não há dados sobre tipo de uva, marca do vinho, preço\n",
        "de venda, etc).\n",
        "\n",
        "**Objetivo**\n",
        "\n",
        "Criar um modelo para estimar a qualidade do vinho."
      ]
    },
    {
      "cell_type": "markdown",
      "metadata": {
        "id": "bMGLBhUNddiw",
        "colab_type": "text"
      },
      "source": [
        "## Questões a serem respondidas\n",
        "\n",
        "a. Como foi a definição da sua estratégia de modelagem?\n",
        "* R: Foram usadas duas estratégias básicas para a modelagem, todas usando as distribuições de Poisson e Bernoulli, discreta com várias classes e Binomial com apenas duas classes (boa ou ruim) respectivamente.   \n",
        "1. AutoML: Automatic Machine Learning\n",
        "2. DRF (incluindo os modelos Random Forest e Extremely Randomized Trees (XRT)\n",
        "3. GLM - Generalized linear model\n",
        "4. XGBoost (XGBoost GBM)\n",
        "5. SVM - um classificador linear binário não probabilístico\n",
        " \n",
        "\n",
        "b. Como foi definida a função de custo utilizada?\n",
        "* R: De uma forma geral, a escolha da função de custo depende se o problema. Usamos algumas para o modelo multiclasses:\n",
        "1. Erro quadrático médio (Mean squared error – MSE)\n",
        "2. Erro Quadrático Médio (RMSE)\n",
        "3. AUC - area under the curve (ROC)\n",
        "4. Acurácia = Taxa de acertos\n",
        "\n",
        "* Para o modelo binomial:\n",
        "1. Acurácia\n",
        "2. F1 - Essa métrica combina precisão e recall de modo a trazer um número único que indique a qualidade geral do seu modelo e trabalha bem até com conjuntos de dados que possuem classes desproporcionais.\n",
        "3. AUCPR - Para um alvo binário desequilibrado, recomendamos AUCPR em detrimento de AUC\n",
        "\n",
        "c. Qual foi o critério utilizado na seleção do modelo final?\n",
        "* R: As metricas apresentadas acima\n",
        "\n",
        "d. Qual foi o critério utilizado para validação do modelo? Por que escolheu utilizar este método?\n",
        "* R: Alguns métodos foram usados:\n",
        "1. Validação cruzada usando k-fold com k=3, usamos k=5, mas o número de observações é pequeno para um k maior do que 3.\n",
        "2. Dividindo o dataset em treino, validação e teste, o segundo para o modelo validar e entregar as métricas de desempenho do modelo, o último, teste, para evitar o overfiting, testando novamente o desempenho.\n",
        "\n",
        "e. Quais evidências você possui de que seu modelo é suficientemente bom?\n",
        "* R: Vários modelos sendo comparados entre sí com várias técnicas e métricas com relatório final."
      ]
    },
    {
      "cell_type": "code",
      "metadata": {
        "id": "sU7LQN0U_DEd",
        "colab_type": "code",
        "outputId": "0970d63b-711f-4687-a7f2-a45deb27f633",
        "colab": {
          "base_uri": "https://localhost:8080/",
          "height": 173
        }
      },
      "source": [
        "pip install h2o"
      ],
      "execution_count": 1,
      "outputs": [
        {
          "output_type": "stream",
          "text": [
            "Requirement already satisfied: h2o in /usr/local/lib/python3.6/dist-packages (3.30.0.1)\n",
            "Requirement already satisfied: future in /usr/local/lib/python3.6/dist-packages (from h2o) (0.16.0)\n",
            "Requirement already satisfied: colorama>=0.3.8 in /usr/local/lib/python3.6/dist-packages (from h2o) (0.4.3)\n",
            "Requirement already satisfied: requests in /usr/local/lib/python3.6/dist-packages (from h2o) (2.21.0)\n",
            "Requirement already satisfied: tabulate in /usr/local/lib/python3.6/dist-packages (from h2o) (0.8.7)\n",
            "Requirement already satisfied: idna<2.9,>=2.5 in /usr/local/lib/python3.6/dist-packages (from requests->h2o) (2.8)\n",
            "Requirement already satisfied: certifi>=2017.4.17 in /usr/local/lib/python3.6/dist-packages (from requests->h2o) (2020.4.5.1)\n",
            "Requirement already satisfied: urllib3<1.25,>=1.21.1 in /usr/local/lib/python3.6/dist-packages (from requests->h2o) (1.24.3)\n",
            "Requirement already satisfied: chardet<3.1.0,>=3.0.2 in /usr/local/lib/python3.6/dist-packages (from requests->h2o) (3.0.4)\n"
          ],
          "name": "stdout"
        }
      ]
    },
    {
      "cell_type": "markdown",
      "metadata": {
        "id": "qWfNffQeXkcP",
        "colab_type": "text"
      },
      "source": [
        "### Iniciando a execução\n",
        "\n",
        "A importação das bicliotecas ou pacotes Python estão nas linhas de comando abaixo.\n",
        "\n",
        "* Pandas para manipulação de dados em formato de Data Frame\n",
        "* Seaborn para criação de gráficos mais elaborados e com maior qualidade visual\n",
        "* Numpy é um pacote que suporta arrays e matrizes multidimensionais\n",
        "* Matplotlib é a biblioteca gráfica de base usada em cojunto com Seaborn\n",
        "* ipywidgets para interação com Jupyter Notebook\n",
        "* H2O é uma plataforma de aprendizado de máquina e análise preditiva de código aberto, na memória, distribuída, rápida e escalonável, que permite criar modelos de aprendizado de máquina em big data e fornece fácil produção desses modelos em um ambiente corporativo\n"
      ]
    },
    {
      "cell_type": "code",
      "metadata": {
        "id": "8oYwyRyxL94m",
        "colab_type": "code",
        "outputId": "41b0652a-1caa-477d-d5bb-52100ca3abd2",
        "colab": {
          "base_uri": "https://localhost:8080/",
          "height": 528
        }
      },
      "source": [
        "import pandas as pd\n",
        "import seaborn as sns\n",
        "import numpy as np\n",
        "import matplotlib.pyplot as plt\n",
        "from ipywidgets import interact, interactive, fixed, interact_manual\n",
        "import ipywidgets as widgets\n",
        "%matplotlib inline \n",
        "import h2o\n",
        "from h2o.estimators import H2ORandomForestEstimator\n",
        "h2o.init()"
      ],
      "execution_count": 2,
      "outputs": [
        {
          "output_type": "stream",
          "text": [
            "Checking whether there is an H2O instance running at http://localhost:54321 ."
          ],
          "name": "stdout"
        },
        {
          "output_type": "stream",
          "text": [
            "/usr/local/lib/python3.6/dist-packages/statsmodels/tools/_testing.py:19: FutureWarning: pandas.util.testing is deprecated. Use the functions in the public API at pandas.testing instead.\n",
            "  import pandas.util.testing as tm\n"
          ],
          "name": "stderr"
        },
        {
          "output_type": "stream",
          "text": [
            ".... not found.\n",
            "Attempting to start a local H2O server...\n",
            "  Java Version: openjdk version \"11.0.6\" 2020-01-14; OpenJDK Runtime Environment (build 11.0.6+10-post-Ubuntu-1ubuntu118.04.1); OpenJDK 64-Bit Server VM (build 11.0.6+10-post-Ubuntu-1ubuntu118.04.1, mixed mode, sharing)\n",
            "  Starting server from /usr/local/lib/python3.6/dist-packages/h2o/backend/bin/h2o.jar\n",
            "  Ice root: /tmp/tmp_jkk3t3j\n",
            "  JVM stdout: /tmp/tmp_jkk3t3j/h2o_unknownUser_started_from_python.out\n",
            "  JVM stderr: /tmp/tmp_jkk3t3j/h2o_unknownUser_started_from_python.err\n",
            "  Server is running at http://127.0.0.1:54321\n",
            "Connecting to H2O server at http://127.0.0.1:54321 ... successful.\n"
          ],
          "name": "stdout"
        },
        {
          "output_type": "display_data",
          "data": {
            "text/html": [
              "<div style=\"overflow:auto\"><table style=\"width:50%\"><tr><td>H2O_cluster_uptime:</td>\n",
              "<td>02 secs</td></tr>\n",
              "<tr><td>H2O_cluster_timezone:</td>\n",
              "<td>Etc/UTC</td></tr>\n",
              "<tr><td>H2O_data_parsing_timezone:</td>\n",
              "<td>UTC</td></tr>\n",
              "<tr><td>H2O_cluster_version:</td>\n",
              "<td>3.30.0.1</td></tr>\n",
              "<tr><td>H2O_cluster_version_age:</td>\n",
              "<td>9 days </td></tr>\n",
              "<tr><td>H2O_cluster_name:</td>\n",
              "<td>H2O_from_python_unknownUser_g8kxvj</td></tr>\n",
              "<tr><td>H2O_cluster_total_nodes:</td>\n",
              "<td>1</td></tr>\n",
              "<tr><td>H2O_cluster_free_memory:</td>\n",
              "<td>3.180 Gb</td></tr>\n",
              "<tr><td>H2O_cluster_total_cores:</td>\n",
              "<td>2</td></tr>\n",
              "<tr><td>H2O_cluster_allowed_cores:</td>\n",
              "<td>2</td></tr>\n",
              "<tr><td>H2O_cluster_status:</td>\n",
              "<td>accepting new members, healthy</td></tr>\n",
              "<tr><td>H2O_connection_url:</td>\n",
              "<td>http://127.0.0.1:54321</td></tr>\n",
              "<tr><td>H2O_connection_proxy:</td>\n",
              "<td>{\"http\": null, \"https\": null}</td></tr>\n",
              "<tr><td>H2O_internal_security:</td>\n",
              "<td>False</td></tr>\n",
              "<tr><td>H2O_API_Extensions:</td>\n",
              "<td>Amazon S3, XGBoost, Algos, AutoML, Core V3, TargetEncoder, Core V4</td></tr>\n",
              "<tr><td>Python_version:</td>\n",
              "<td>3.6.9 final</td></tr></table></div>"
            ],
            "text/plain": [
              "--------------------------  ------------------------------------------------------------------\n",
              "H2O_cluster_uptime:         02 secs\n",
              "H2O_cluster_timezone:       Etc/UTC\n",
              "H2O_data_parsing_timezone:  UTC\n",
              "H2O_cluster_version:        3.30.0.1\n",
              "H2O_cluster_version_age:    9 days\n",
              "H2O_cluster_name:           H2O_from_python_unknownUser_g8kxvj\n",
              "H2O_cluster_total_nodes:    1\n",
              "H2O_cluster_free_memory:    3.180 Gb\n",
              "H2O_cluster_total_cores:    2\n",
              "H2O_cluster_allowed_cores:  2\n",
              "H2O_cluster_status:         accepting new members, healthy\n",
              "H2O_connection_url:         http://127.0.0.1:54321\n",
              "H2O_connection_proxy:       {\"http\": null, \"https\": null}\n",
              "H2O_internal_security:      False\n",
              "H2O_API_Extensions:         Amazon S3, XGBoost, Algos, AutoML, Core V3, TargetEncoder, Core V4\n",
              "Python_version:             3.6.9 final\n",
              "--------------------------  ------------------------------------------------------------------"
            ]
          },
          "metadata": {
            "tags": []
          }
        }
      ]
    },
    {
      "cell_type": "markdown",
      "metadata": {
        "id": "IW8exNiPy_Rg",
        "colab_type": "text"
      },
      "source": [
        "### Leitura do arquivo fonte\n",
        "\n",
        "\n",
        "![default of credit card clients Data Set](https://archive.ics.uci.edu/ml/assets/logo.gif)\n",
        "\n",
        "[Arquivo Original](http://archive.ics.uci.edu/ml/datasets/Wine+Quality)\n",
        "\n",
        "Não usamos o arquivo original. O motivo será explicado no final desse documento.\n",
        "Nesse passo é importante ter acesso à Internet, pois o arquivo está sendo lido diretamente do Github.\n",
        "\n",
        "NOTA: esse arquivo foi enviado pelo solicitante que aqui supriremos o nome por questões de sigilo do processo."
      ]
    },
    {
      "cell_type": "code",
      "metadata": {
        "id": "NLqJ2sbfNMue",
        "colab_type": "code",
        "colab": {}
      },
      "source": [
        "dfo = pd.read_csv('https://raw.githubusercontent.com/dbranquinho/wine/master/winequality.csv', sep=';')"
      ],
      "execution_count": 0,
      "outputs": []
    },
    {
      "cell_type": "markdown",
      "metadata": {
        "id": "8KHFPVOo0J55",
        "colab_type": "text"
      },
      "source": [
        "Abaixo temos parte dos dados expostos. Observamos que a variável *quality* é a nossa variável alvo. \n",
        "\n",
        "Variáveis input (baseado em testes físico-químicos):\n",
        "1. Tipo\n",
        "2. Acidez fixa\n",
        "3. Volatilidade da acidez\n",
        "4. Ácido cítrico\n",
        "5. Açúcar residual\n",
        "6. Cloretos\n",
        "7. Dióxido de enxofre livre\n",
        "8. Dióxido de enxofre total\n",
        "9. Densidade\n",
        "10. pH\n",
        "11. Sulfatos\n",
        "12. Álcool\n",
        "\n",
        "Variável output (baseado em dado sensorial):\n",
        "13. Qualidade (score entre 0 and 10)\n",
        "\n",
        "As variáveis tem nomes separados por espaços, faremos uma pequena transformação para evitar possíveis problemas de tokenização."
      ]
    },
    {
      "cell_type": "code",
      "metadata": {
        "id": "JVczQEkq0oZG",
        "colab_type": "code",
        "outputId": "8cf0c78d-fc19-4f4e-9261-18e86fa08753",
        "colab": {
          "base_uri": "https://localhost:8080/",
          "height": 202
        }
      },
      "source": [
        "dfo.head()"
      ],
      "execution_count": 4,
      "outputs": [
        {
          "output_type": "execute_result",
          "data": {
            "text/html": [
              "<div>\n",
              "<style scoped>\n",
              "    .dataframe tbody tr th:only-of-type {\n",
              "        vertical-align: middle;\n",
              "    }\n",
              "\n",
              "    .dataframe tbody tr th {\n",
              "        vertical-align: top;\n",
              "    }\n",
              "\n",
              "    .dataframe thead th {\n",
              "        text-align: right;\n",
              "    }\n",
              "</style>\n",
              "<table border=\"1\" class=\"dataframe\">\n",
              "  <thead>\n",
              "    <tr style=\"text-align: right;\">\n",
              "      <th></th>\n",
              "      <th>type</th>\n",
              "      <th>fixed acidity</th>\n",
              "      <th>volatile acidity</th>\n",
              "      <th>citric acid</th>\n",
              "      <th>residual sugar</th>\n",
              "      <th>chlorides</th>\n",
              "      <th>free sulfur dioxide</th>\n",
              "      <th>total sulfur dioxide</th>\n",
              "      <th>density</th>\n",
              "      <th>pH</th>\n",
              "      <th>sulphates</th>\n",
              "      <th>alcohol</th>\n",
              "      <th>quality</th>\n",
              "    </tr>\n",
              "  </thead>\n",
              "  <tbody>\n",
              "    <tr>\n",
              "      <th>0</th>\n",
              "      <td>White</td>\n",
              "      <td>7.0</td>\n",
              "      <td>0.27</td>\n",
              "      <td>0.36</td>\n",
              "      <td>20.7</td>\n",
              "      <td>0.045</td>\n",
              "      <td>45.0</td>\n",
              "      <td>170.0</td>\n",
              "      <td>1.0010</td>\n",
              "      <td>3.00</td>\n",
              "      <td>0.45</td>\n",
              "      <td>8.8</td>\n",
              "      <td>6</td>\n",
              "    </tr>\n",
              "    <tr>\n",
              "      <th>1</th>\n",
              "      <td>White</td>\n",
              "      <td>6.3</td>\n",
              "      <td>0.30</td>\n",
              "      <td>0.34</td>\n",
              "      <td>1.6</td>\n",
              "      <td>0.049</td>\n",
              "      <td>14.0</td>\n",
              "      <td>132.0</td>\n",
              "      <td>0.9940</td>\n",
              "      <td>3.30</td>\n",
              "      <td>0.49</td>\n",
              "      <td>9.5</td>\n",
              "      <td>6</td>\n",
              "    </tr>\n",
              "    <tr>\n",
              "      <th>2</th>\n",
              "      <td>White</td>\n",
              "      <td>8.1</td>\n",
              "      <td>0.28</td>\n",
              "      <td>0.40</td>\n",
              "      <td>6.9</td>\n",
              "      <td>0.050</td>\n",
              "      <td>30.0</td>\n",
              "      <td>97.0</td>\n",
              "      <td>0.9951</td>\n",
              "      <td>3.26</td>\n",
              "      <td>0.44</td>\n",
              "      <td>10.1</td>\n",
              "      <td>6</td>\n",
              "    </tr>\n",
              "    <tr>\n",
              "      <th>3</th>\n",
              "      <td>White</td>\n",
              "      <td>7.2</td>\n",
              "      <td>0.23</td>\n",
              "      <td>0.32</td>\n",
              "      <td>8.5</td>\n",
              "      <td>0.058</td>\n",
              "      <td>47.0</td>\n",
              "      <td>186.0</td>\n",
              "      <td>0.9956</td>\n",
              "      <td>3.19</td>\n",
              "      <td>0.40</td>\n",
              "      <td>9.9</td>\n",
              "      <td>6</td>\n",
              "    </tr>\n",
              "    <tr>\n",
              "      <th>4</th>\n",
              "      <td>White</td>\n",
              "      <td>7.2</td>\n",
              "      <td>0.23</td>\n",
              "      <td>0.32</td>\n",
              "      <td>8.5</td>\n",
              "      <td>0.058</td>\n",
              "      <td>47.0</td>\n",
              "      <td>186.0</td>\n",
              "      <td>0.9956</td>\n",
              "      <td>3.19</td>\n",
              "      <td>0.40</td>\n",
              "      <td>9.9</td>\n",
              "      <td>6</td>\n",
              "    </tr>\n",
              "  </tbody>\n",
              "</table>\n",
              "</div>"
            ],
            "text/plain": [
              "    type  fixed acidity  volatile acidity  ...  sulphates  alcohol  quality\n",
              "0  White            7.0              0.27  ...       0.45      8.8        6\n",
              "1  White            6.3              0.30  ...       0.49      9.5        6\n",
              "2  White            8.1              0.28  ...       0.44     10.1        6\n",
              "3  White            7.2              0.23  ...       0.40      9.9        6\n",
              "4  White            7.2              0.23  ...       0.40      9.9        6\n",
              "\n",
              "[5 rows x 13 columns]"
            ]
          },
          "metadata": {
            "tags": []
          },
          "execution_count": 4
        }
      ]
    },
    {
      "cell_type": "code",
      "metadata": {
        "id": "npR4I8YsEb0o",
        "colab_type": "code",
        "colab": {}
      },
      "source": [
        "dfo.rename({'fixed acidity': 'fixed_acidity',\n",
        "           'volatile acidity': 'volatile_acidity', \n",
        "           'citric acid': 'citric_acid', \n",
        "           'residual sugar': 'residual_sugar', \n",
        "           'free sulfur dioxide': 'free_sulfur_dioxide', \n",
        "           'total sulfur dioxide': 'total_sulfur_dioxide'}, \n",
        "           axis=1, inplace=True)"
      ],
      "execution_count": 0,
      "outputs": []
    },
    {
      "cell_type": "markdown",
      "metadata": {
        "id": "yGSJZRsICzF2",
        "colab_type": "text"
      },
      "source": [
        "**Dados ou linha duplicadas**\n",
        "\n",
        "Vamos verificar se há linhas duplicadas nesse dataset.\n",
        "Esse é um passo de limpeza e preparação de dados."
      ]
    },
    {
      "cell_type": "code",
      "metadata": {
        "id": "ML3o9KnXEnwm",
        "colab_type": "code",
        "outputId": "0eee73a3-bbd1-4443-a699-f1805f1bcfef",
        "colab": {
          "base_uri": "https://localhost:8080/",
          "height": 277
        }
      },
      "source": [
        "duplicateRowsDF = dfo[dfo.duplicated()]\n",
        "print(\"Duplicate Rows except first occurrence based on all columns are :\")\n",
        "print(duplicateRowsDF)"
      ],
      "execution_count": 6,
      "outputs": [
        {
          "output_type": "stream",
          "text": [
            "Duplicate Rows except first occurrence based on all columns are :\n",
            "       type  fixed_acidity  volatile_acidity  ...  sulphates  alcohol  quality\n",
            "4     White            7.2             0.230  ...       0.40      9.9        6\n",
            "5     White            8.1             0.280  ...       0.44     10.1        6\n",
            "7     White            7.0             0.270  ...       0.45      8.8        6\n",
            "8     White            6.3             0.300  ...       0.49      9.5        6\n",
            "20    White            6.2             0.660  ...       0.39     12.8        8\n",
            "...     ...            ...               ...  ...        ...      ...      ...\n",
            "6461    Red            7.2             0.695  ...       0.54     10.1        5\n",
            "6462    Red            7.2             0.695  ...       0.54     10.1        5\n",
            "6465    Red            7.2             0.695  ...       0.54     10.1        5\n",
            "6479    Red            6.2             0.560  ...       0.60     11.3        5\n",
            "6494    Red            6.3             0.510  ...       0.75       11        6\n",
            "\n",
            "[1177 rows x 13 columns]\n"
          ],
          "name": "stdout"
        }
      ]
    },
    {
      "cell_type": "code",
      "metadata": {
        "id": "1xpbV_PVEq5i",
        "colab_type": "code",
        "outputId": "9f5115a6-a5ae-4c33-d911-91ec6fc3dec0",
        "colab": {
          "base_uri": "https://localhost:8080/",
          "height": 34
        }
      },
      "source": [
        "dfo.shape"
      ],
      "execution_count": 7,
      "outputs": [
        {
          "output_type": "execute_result",
          "data": {
            "text/plain": [
              "(6497, 13)"
            ]
          },
          "metadata": {
            "tags": []
          },
          "execution_count": 7
        }
      ]
    },
    {
      "cell_type": "markdown",
      "metadata": {
        "id": "4s-B_y_y1U2p",
        "colab_type": "text"
      },
      "source": [
        "Temos $1177$ obervações duplicadas, vamos excluí-las, pois isso pode enviesar (criar bias) os resultados atribuindo pesos para determinadas classes em detrimento de outras."
      ]
    },
    {
      "cell_type": "code",
      "metadata": {
        "id": "ayOlNCBQE207",
        "colab_type": "code",
        "colab": {}
      },
      "source": [
        "dfo = dfo.drop_duplicates(ignore_index=True)"
      ],
      "execution_count": 0,
      "outputs": []
    },
    {
      "cell_type": "code",
      "metadata": {
        "id": "DgNLcWNvpzAL",
        "colab_type": "code",
        "outputId": "2e154438-4de6-4fab-abd1-ab5eb9d2b117",
        "colab": {
          "base_uri": "https://localhost:8080/",
          "height": 34
        }
      },
      "source": [
        "dfo.shape"
      ],
      "execution_count": 9,
      "outputs": [
        {
          "output_type": "execute_result",
          "data": {
            "text/plain": [
              "(5320, 13)"
            ]
          },
          "metadata": {
            "tags": []
          },
          "execution_count": 9
        }
      ]
    },
    {
      "cell_type": "markdown",
      "metadata": {
        "id": "1hIw61pwE7RV",
        "colab_type": "text"
      },
      "source": [
        "Reindexando para eliminar linhas com \"NaN\" removidas."
      ]
    },
    {
      "cell_type": "code",
      "metadata": {
        "id": "tCmnz6Z5E8B9",
        "colab_type": "code",
        "colab": {}
      },
      "source": [
        "dfo = dfo.reindex(range(0,dfo.shape[0]))"
      ],
      "execution_count": 0,
      "outputs": []
    },
    {
      "cell_type": "markdown",
      "metadata": {
        "id": "ieZhby_WFAMA",
        "colab_type": "text"
      },
      "source": [
        "Vamos verificar que tipos de variáveis nos temos"
      ]
    },
    {
      "cell_type": "code",
      "metadata": {
        "id": "_qYaR4PcFAxD",
        "colab_type": "code",
        "outputId": "8f08f6fd-383e-40f5-be89-046751879fdb",
        "colab": {
          "base_uri": "https://localhost:8080/",
          "height": 260
        }
      },
      "source": [
        "dfo.dtypes"
      ],
      "execution_count": 11,
      "outputs": [
        {
          "output_type": "execute_result",
          "data": {
            "text/plain": [
              "type                     object\n",
              "fixed_acidity           float64\n",
              "volatile_acidity        float64\n",
              "citric_acid             float64\n",
              "residual_sugar          float64\n",
              "chlorides               float64\n",
              "free_sulfur_dioxide     float64\n",
              "total_sulfur_dioxide    float64\n",
              "density                 float64\n",
              "pH                      float64\n",
              "sulphates               float64\n",
              "alcohol                  object\n",
              "quality                   int64\n",
              "dtype: object"
            ]
          },
          "metadata": {
            "tags": []
          },
          "execution_count": 11
        }
      ]
    },
    {
      "cell_type": "markdown",
      "metadata": {
        "id": "Ts2F1qY1FFOt",
        "colab_type": "text"
      },
      "source": [
        "Parece que o arquivo original foi alterado, pois a variável alcohol é do tipo categorica. Vamos verificar o que aconteceu com essa variável e ver seu conteúdo. Quais valores únicos existem."
      ]
    },
    {
      "cell_type": "code",
      "metadata": {
        "id": "5yvx_ip4FF1A",
        "colab_type": "code",
        "outputId": "cac2edcb-9b19-4d6b-c611-81df6e7fe4ea",
        "colab": {
          "base_uri": "https://localhost:8080/",
          "height": 398
        }
      },
      "source": [
        "dfo['alcohol'].unique()"
      ],
      "execution_count": 12,
      "outputs": [
        {
          "output_type": "execute_result",
          "data": {
            "text/plain": [
              "array(['8.8', '9.5', '10.1', '9.9', '9.6', '11', '12', '9.7', '10.8',\n",
              "       '12.4', '11.4', '12.8', '11.3', '10.5', '9.3', '10', '10.4',\n",
              "       '11.6', '12.3', '10.2', '9', '11.2', '8.6', '9.4', '9.8', '11.7',\n",
              "       '10.9', '9.1', '8.9', '10.3', '12.6', '10.7', '12.7', '10.6',\n",
              "       '9.2', '8.7', '11.5', '11.8', '12.1', '11.1', '8.5', '12.5',\n",
              "       '11.9', '12.2', '12.9', '13.9', '14', '13.5', '13.3', '13.2',\n",
              "       '13.7', '13.4', '13', '8', '13.1', '8.0', '13.6', '8.4', '14.2',\n",
              "       '11.94', '128.933.333.333.333', '114.666.666.666.667', '10.98',\n",
              "       '100.333.333.333.333', '114.333.333.333.333',\n",
              "       '105.333.333.333.333', '953.333.333.333.333',\n",
              "       '109.333.333.333.333', '113.666.666.666.667',\n",
              "       '113.333.333.333.333', '110.666.666.666.667',\n",
              "       '973.333.333.333.333', '11.05', '9.75', '11.35', '9.55', '10.55',\n",
              "       '11.45', '14.05', '123.333.333.333.333', '12.75', '13.8', '12.15',\n",
              "       '13.05', '112.666.666.666.667', '105.666.666.666.667',\n",
              "       '117.333.333.333.333', '11.75', '10.65', '109.666.666.666.667',\n",
              "       '101.333.333.333.333', '10.15', '104.666.666.666.667',\n",
              "       '116.333.333.333.333', '12.25', '11.85', '11.65', '13.55',\n",
              "       '131.333.333.333.333', '11.95', '120.666.666.666.667', '11.55',\n",
              "       '963.333.333.333.333', '12.05', '14.9', '956.666.666.666.667',\n",
              "       '135.666.666.666.667', '9.95', '923.333.333.333.333', '9.25',\n",
              "       '9.05', '10.75'], dtype=object)"
            ]
          },
          "metadata": {
            "tags": []
          },
          "execution_count": 12
        }
      ]
    },
    {
      "cell_type": "markdown",
      "metadata": {
        "id": "rY0ei5c4FJgP",
        "colab_type": "text"
      },
      "source": [
        "Há uma distorção nos valores originais do dataset. Vamos corrigir essa distorção assumindo que são dízimas periódicas."
      ]
    },
    {
      "cell_type": "code",
      "metadata": {
        "id": "C2QNSUZXFLUC",
        "colab_type": "code",
        "colab": {}
      },
      "source": [
        "myvar = dfo[\"alcohol\"].copy()"
      ],
      "execution_count": 0,
      "outputs": []
    },
    {
      "cell_type": "code",
      "metadata": {
        "id": "xACXc2xcFMfn",
        "colab_type": "code",
        "colab": {}
      },
      "source": [
        "for i in range(0,myvar.shape[0]):\n",
        "    if myvar[i].count('.') > 2:\n",
        "       myvar[i] = myvar[i].split('.')[0]+'.'+myvar[i].split('.')[1]"
      ],
      "execution_count": 0,
      "outputs": []
    },
    {
      "cell_type": "code",
      "metadata": {
        "id": "nI1gIO9OFQT-",
        "colab_type": "code",
        "colab": {}
      },
      "source": [
        "dfo[\"alcohol\"] = myvar.copy()"
      ],
      "execution_count": 0,
      "outputs": []
    },
    {
      "cell_type": "code",
      "metadata": {
        "id": "8g69raWJFSr3",
        "colab_type": "code",
        "outputId": "23fe92ad-ef67-4515-b822-f2ed9790be5a",
        "colab": {
          "base_uri": "https://localhost:8080/",
          "height": 294
        }
      },
      "source": [
        "dfo['alcohol'].unique()"
      ],
      "execution_count": 16,
      "outputs": [
        {
          "output_type": "execute_result",
          "data": {
            "text/plain": [
              "array(['8.8', '9.5', '10.1', '9.9', '9.6', '11', '12', '9.7', '10.8',\n",
              "       '12.4', '11.4', '12.8', '11.3', '10.5', '9.3', '10', '10.4',\n",
              "       '11.6', '12.3', '10.2', '9', '11.2', '8.6', '9.4', '9.8', '11.7',\n",
              "       '10.9', '9.1', '8.9', '10.3', '12.6', '10.7', '12.7', '10.6',\n",
              "       '9.2', '8.7', '11.5', '11.8', '12.1', '11.1', '8.5', '12.5',\n",
              "       '11.9', '12.2', '12.9', '13.9', '14', '13.5', '13.3', '13.2',\n",
              "       '13.7', '13.4', '13', '8', '13.1', '8.0', '13.6', '8.4', '14.2',\n",
              "       '11.94', '128.933', '114.666', '10.98', '100.333', '114.333',\n",
              "       '105.333', '953.333', '109.333', '113.666', '113.333', '110.666',\n",
              "       '973.333', '11.05', '9.75', '11.35', '9.55', '10.55', '11.45',\n",
              "       '14.05', '123.333', '12.75', '13.8', '12.15', '13.05', '112.666',\n",
              "       '105.666', '117.333', '11.75', '10.65', '109.666', '101.333',\n",
              "       '10.15', '104.666', '116.333', '12.25', '11.85', '11.65', '13.55',\n",
              "       '131.333', '11.95', '120.666', '11.55', '963.333', '12.05', '14.9',\n",
              "       '956.666', '135.666', '9.95', '923.333', '9.25', '9.05', '10.75'],\n",
              "      dtype=object)"
            ]
          },
          "metadata": {
            "tags": []
          },
          "execution_count": 16
        }
      ]
    },
    {
      "cell_type": "markdown",
      "metadata": {
        "id": "XrLttH88FaxU",
        "colab_type": "text"
      },
      "source": [
        "Ainda assim os valores maiores que 100 parecem ter sido criados artificialmente. Não estamos comparando com o arquivo original que não possue esses valores, mas estamos respeitando a amostra enviada. Estamos apenas na fase de preparação dos dados para uma melhor modelagem."
      ]
    },
    {
      "cell_type": "markdown",
      "metadata": {
        "id": "PoAEAtsaFdnY",
        "colab_type": "text"
      },
      "source": [
        "Agora vamos transformar essa variável categorica para float."
      ]
    },
    {
      "cell_type": "code",
      "metadata": {
        "id": "TXUoGTmZFf0C",
        "colab_type": "code",
        "colab": {}
      },
      "source": [
        "dfo['alcohol'] = pd.to_numeric(dfo['alcohol'])"
      ],
      "execution_count": 0,
      "outputs": []
    },
    {
      "cell_type": "markdown",
      "metadata": {
        "id": "DHa2zBkrV6vI",
        "colab_type": "text"
      },
      "source": [
        "Os valores maiores que 100 serão divididos por 10, não teor alcoolico maior que 100%."
      ]
    },
    {
      "cell_type": "code",
      "metadata": {
        "id": "3zmIlXX7V8eP",
        "colab_type": "code",
        "colab": {}
      },
      "source": [
        "myvar = dfo['alcohol'].copy()"
      ],
      "execution_count": 0,
      "outputs": []
    },
    {
      "cell_type": "code",
      "metadata": {
        "id": "qYVAfXITV_VN",
        "colab_type": "code",
        "colab": {}
      },
      "source": [
        "for i in range(0,myvar.shape[0]):\n",
        "    if myvar[i] > 100:\n",
        "       myvar[i] = myvar[i] / 10\n",
        "    if myvar[i] > 50:\n",
        "       myvar[i] = myvar[i] / 10"
      ],
      "execution_count": 0,
      "outputs": []
    },
    {
      "cell_type": "code",
      "metadata": {
        "id": "XNUKx4eaWBJS",
        "colab_type": "code",
        "colab": {}
      },
      "source": [
        "dfo[\"alcohol\"] = myvar.copy()"
      ],
      "execution_count": 0,
      "outputs": []
    },
    {
      "cell_type": "code",
      "metadata": {
        "id": "y365lHJkWC1r",
        "colab_type": "code",
        "colab": {
          "base_uri": "https://localhost:8080/",
          "height": 346
        },
        "outputId": "17f35b00-d0d2-4ce7-9fcc-e491147ac75a"
      },
      "source": [
        "dfo['alcohol'].unique()"
      ],
      "execution_count": 21,
      "outputs": [
        {
          "output_type": "execute_result",
          "data": {
            "text/plain": [
              "array([ 8.8    ,  9.5    , 10.1    ,  9.9    ,  9.6    , 11.     ,\n",
              "       12.     ,  9.7    , 10.8    , 12.4    , 11.4    , 12.8    ,\n",
              "       11.3    , 10.5    ,  9.3    , 10.     , 10.4    , 11.6    ,\n",
              "       12.3    , 10.2    ,  9.     , 11.2    ,  8.6    ,  9.4    ,\n",
              "        9.8    , 11.7    , 10.9    ,  9.1    ,  8.9    , 10.3    ,\n",
              "       12.6    , 10.7    , 12.7    , 10.6    ,  9.2    ,  8.7    ,\n",
              "       11.5    , 11.8    , 12.1    , 11.1    ,  8.5    , 12.5    ,\n",
              "       11.9    , 12.2    , 12.9    , 13.9    , 14.     , 13.5    ,\n",
              "       13.3    , 13.2    , 13.7    , 13.4    , 13.     ,  8.     ,\n",
              "       13.1    , 13.6    ,  8.4    , 14.2    , 11.94   , 12.8933 ,\n",
              "       11.4666 , 10.98   , 10.0333 , 11.4333 , 10.5333 ,  9.53333,\n",
              "       10.9333 , 11.3666 , 11.3333 , 11.0666 ,  9.73333, 11.05   ,\n",
              "        9.75   , 11.35   ,  9.55   , 10.55   , 11.45   , 14.05   ,\n",
              "       12.3333 , 12.75   , 13.8    , 12.15   , 13.05   , 11.2666 ,\n",
              "       10.5666 , 11.7333 , 11.75   , 10.65   , 10.9666 , 10.1333 ,\n",
              "       10.15   , 10.4666 , 11.6333 , 12.25   , 11.85   , 11.65   ,\n",
              "       13.55   , 13.1333 , 11.95   , 12.0666 , 11.55   ,  9.63333,\n",
              "       12.05   , 14.9    ,  9.56666, 13.5666 ,  9.95   ,  9.23333,\n",
              "        9.25   ,  9.05   , 10.75   ])"
            ]
          },
          "metadata": {
            "tags": []
          },
          "execution_count": 21
        }
      ]
    },
    {
      "cell_type": "code",
      "metadata": {
        "id": "49vK4KliFiIg",
        "colab_type": "code",
        "outputId": "540d43cc-0b5b-4cbe-f4d6-4bf141caf010",
        "colab": {
          "base_uri": "https://localhost:8080/",
          "height": 260
        }
      },
      "source": [
        "dfo.dtypes"
      ],
      "execution_count": 22,
      "outputs": [
        {
          "output_type": "execute_result",
          "data": {
            "text/plain": [
              "type                     object\n",
              "fixed_acidity           float64\n",
              "volatile_acidity        float64\n",
              "citric_acid             float64\n",
              "residual_sugar          float64\n",
              "chlorides               float64\n",
              "free_sulfur_dioxide     float64\n",
              "total_sulfur_dioxide    float64\n",
              "density                 float64\n",
              "pH                      float64\n",
              "sulphates               float64\n",
              "alcohol                 float64\n",
              "quality                   int64\n",
              "dtype: object"
            ]
          },
          "metadata": {
            "tags": []
          },
          "execution_count": 22
        }
      ]
    },
    {
      "cell_type": "markdown",
      "metadata": {
        "id": "IrKUsxTBLCS0",
        "colab_type": "text"
      },
      "source": [
        "**Verificação de dados ausentes**\n",
        "\n",
        "Veremos que não há dados ausentes. É muito importante porque o tratamento de limpeza deste não é necessário."
      ]
    },
    {
      "cell_type": "code",
      "metadata": {
        "id": "UbgtmmnfLGTs",
        "colab_type": "code",
        "outputId": "dd8141e8-e042-4964-a961-7b6144483e61",
        "colab": {
          "base_uri": "https://localhost:8080/",
          "height": 110
        }
      },
      "source": [
        "total = dfo.isnull().sum().sort_values(ascending = False)\n",
        "percent = (dfo.isnull().sum()/dfo.isnull().count()*100).sort_values(ascending = False)\n",
        "pd.concat([total, percent], axis=1, keys=['Total', 'Percent']).transpose()"
      ],
      "execution_count": 23,
      "outputs": [
        {
          "output_type": "execute_result",
          "data": {
            "text/html": [
              "<div>\n",
              "<style scoped>\n",
              "    .dataframe tbody tr th:only-of-type {\n",
              "        vertical-align: middle;\n",
              "    }\n",
              "\n",
              "    .dataframe tbody tr th {\n",
              "        vertical-align: top;\n",
              "    }\n",
              "\n",
              "    .dataframe thead th {\n",
              "        text-align: right;\n",
              "    }\n",
              "</style>\n",
              "<table border=\"1\" class=\"dataframe\">\n",
              "  <thead>\n",
              "    <tr style=\"text-align: right;\">\n",
              "      <th></th>\n",
              "      <th>quality</th>\n",
              "      <th>alcohol</th>\n",
              "      <th>sulphates</th>\n",
              "      <th>pH</th>\n",
              "      <th>density</th>\n",
              "      <th>total_sulfur_dioxide</th>\n",
              "      <th>free_sulfur_dioxide</th>\n",
              "      <th>chlorides</th>\n",
              "      <th>residual_sugar</th>\n",
              "      <th>citric_acid</th>\n",
              "      <th>volatile_acidity</th>\n",
              "      <th>fixed_acidity</th>\n",
              "      <th>type</th>\n",
              "    </tr>\n",
              "  </thead>\n",
              "  <tbody>\n",
              "    <tr>\n",
              "      <th>Total</th>\n",
              "      <td>0.0</td>\n",
              "      <td>0.0</td>\n",
              "      <td>0.0</td>\n",
              "      <td>0.0</td>\n",
              "      <td>0.0</td>\n",
              "      <td>0.0</td>\n",
              "      <td>0.0</td>\n",
              "      <td>0.0</td>\n",
              "      <td>0.0</td>\n",
              "      <td>0.0</td>\n",
              "      <td>0.0</td>\n",
              "      <td>0.0</td>\n",
              "      <td>0.0</td>\n",
              "    </tr>\n",
              "    <tr>\n",
              "      <th>Percent</th>\n",
              "      <td>0.0</td>\n",
              "      <td>0.0</td>\n",
              "      <td>0.0</td>\n",
              "      <td>0.0</td>\n",
              "      <td>0.0</td>\n",
              "      <td>0.0</td>\n",
              "      <td>0.0</td>\n",
              "      <td>0.0</td>\n",
              "      <td>0.0</td>\n",
              "      <td>0.0</td>\n",
              "      <td>0.0</td>\n",
              "      <td>0.0</td>\n",
              "      <td>0.0</td>\n",
              "    </tr>\n",
              "  </tbody>\n",
              "</table>\n",
              "</div>"
            ],
            "text/plain": [
              "         quality  alcohol  sulphates  ...  volatile_acidity  fixed_acidity  type\n",
              "Total        0.0      0.0        0.0  ...               0.0            0.0   0.0\n",
              "Percent      0.0      0.0        0.0  ...               0.0            0.0   0.0\n",
              "\n",
              "[2 rows x 13 columns]"
            ]
          },
          "metadata": {
            "tags": []
          },
          "execution_count": 23
        }
      ]
    },
    {
      "cell_type": "markdown",
      "metadata": {
        "id": "zxfYVB2cL4bB",
        "colab_type": "text"
      },
      "source": [
        "**Verificando classes desequilibradas**\n",
        "\n",
        "Vamos verificar o desequilíbrio dos dados em relação ao valor-alvo, ou seja, **quality**.\n",
        "\n",
        "Os dados apresentam um grande desequilíbrio com relação ao valor alvo (quality), mas **Sim**, as classes são muito desequilibradas, portanto, o parâmetro que será usado em *H2O* deve obtê-lo usando Bagging.\n",
        "\n",
        "*Bootstrap Aggregating*, também chamada de *bagging*, é um meta-algoritmo de conjunto de aprendizado de máquina projetado para melhorar a estabilidade e a precisão dos algoritmos de aprendizado de máquina usados na classificação e regressão estatística. Também reduz a variação e ajuda a evitar ajustes excessivos (*overfitting*). \n",
        "\n",
        "Embora geralmente seja aplicado aos métodos da árvore de decisão, ele pode ser usado com qualquer tipo de método. O *bagging* é um caso especial da abordagem de média do modelo.\n",
        "\n",
        "[Wiki](https://en.wikipedia.org/wiki/Bootstrap_aggregating)"
      ]
    },
    {
      "cell_type": "markdown",
      "metadata": {
        "id": "lusCmgsiGLQv",
        "colab_type": "text"
      },
      "source": [
        "Vamos ver quantas classes temos"
      ]
    },
    {
      "cell_type": "code",
      "metadata": {
        "id": "7cgAWqy9GKi1",
        "colab_type": "code",
        "outputId": "e2b5c080-947d-4af1-8e72-27f116b1bd59",
        "colab": {
          "base_uri": "https://localhost:8080/",
          "height": 34
        }
      },
      "source": [
        "dfo.quality.unique()"
      ],
      "execution_count": 24,
      "outputs": [
        {
          "output_type": "execute_result",
          "data": {
            "text/plain": [
              "array([6, 5, 7, 8, 4, 3, 9])"
            ]
          },
          "metadata": {
            "tags": []
          },
          "execution_count": 24
        }
      ]
    },
    {
      "cell_type": "code",
      "metadata": {
        "id": "prqvI-e7L8zx",
        "colab_type": "code",
        "outputId": "e4631d06-33e2-437e-8a02-9f8c870c1e17",
        "colab": {
          "base_uri": "https://localhost:8080/",
          "height": 418
        }
      },
      "source": [
        "temp = dfo[\"quality\"].value_counts()\n",
        "df = pd.DataFrame({'quality': temp.index,'values': temp.values})\n",
        "plt.figure(figsize = (6,6))\n",
        "plt.title('Wine Quality Data Set - target value - data unbalance\\n (quality)')\n",
        "sns.set_color_codes(\"pastel\")\n",
        "sns.barplot(x = 'quality', y=\"values\", data=df)\n",
        "locs, labels = plt.xticks()\n",
        "plt.show()"
      ],
      "execution_count": 25,
      "outputs": [
        {
          "output_type": "display_data",
          "data": {
            "image/png": "[encoded data removed]",
            "text/plain": [
              "<Figure size 432x432 with 1 Axes>"
            ]
          },
          "metadata": {
            "tags": [],
            "needs_background": "light"
          }
        }
      ]
    },
    {
      "cell_type": "markdown",
      "metadata": {
        "id": "B71ykhsXHGKt",
        "colab_type": "text"
      },
      "source": [
        "### Distribuição Binomial\n",
        "Outra abordagem possível é determinar se o vinho é bom ou ruim. Para isso precisamos aterar a distribuição da variável quality de Poisson para Bernoulli.\n",
        "\n",
        "Assim teremos a oportunidade de inspecionar outras métricas de avaliação do modelo, como por exemplo, F1 entre outras."
      ]
    },
    {
      "cell_type": "markdown",
      "metadata": {
        "id": "-CwJ1mTFHOLR",
        "colab_type": "text"
      },
      "source": [
        "### Tranformação\n",
        "Vamos trasformar a distribuição de Poisson para Bernoulli, de Multiclasse para Binária respectivamente."
      ]
    },
    {
      "cell_type": "code",
      "metadata": {
        "id": "bgxI8DyBHQUJ",
        "colab_type": "code",
        "colab": {}
      },
      "source": [
        "dfo['quality'] = dfo['quality'].map({9: 1, 8: 1,7: 1,6: 0, 5: 0,4:0,3:0})"
      ],
      "execution_count": 0,
      "outputs": []
    },
    {
      "cell_type": "code",
      "metadata": {
        "id": "lLW0Pk07MyIC",
        "colab_type": "code",
        "outputId": "0d42e022-4778-472e-cf29-aec277365acd",
        "colab": {
          "base_uri": "https://localhost:8080/",
          "height": 418
        }
      },
      "source": [
        "temp = dfo[\"quality\"].value_counts()\n",
        "df = pd.DataFrame({'quality': temp.index,'values': temp.values})\n",
        "plt.figure(figsize = (6,6))\n",
        "plt.title('Wine Quality Data Set - target value - data unbalance\\n (quality)')\n",
        "sns.set_color_codes(\"pastel\")\n",
        "sns.barplot(x = 'quality', y=\"values\", data=df)\n",
        "locs, labels = plt.xticks()\n",
        "plt.show()"
      ],
      "execution_count": 27,
      "outputs": [
        {
          "output_type": "display_data",
          "data": {
            "image/png": "[encoded data removed]",
            "text/plain": [
              "<Figure size 432x432 with 1 Axes>"
            ]
          },
          "metadata": {
            "tags": [],
            "needs_background": "light"
          }
        }
      ]
    },
    {
      "cell_type": "code",
      "metadata": {
        "id": "tNUSckPYHUuH",
        "colab_type": "code",
        "outputId": "daeae469-0185-4199-f708-5a63796a9b5f",
        "colab": {
          "base_uri": "https://localhost:8080/",
          "height": 202
        }
      },
      "source": [
        "dfo.head()"
      ],
      "execution_count": 28,
      "outputs": [
        {
          "output_type": "execute_result",
          "data": {
            "text/html": [
              "<div>\n",
              "<style scoped>\n",
              "    .dataframe tbody tr th:only-of-type {\n",
              "        vertical-align: middle;\n",
              "    }\n",
              "\n",
              "    .dataframe tbody tr th {\n",
              "        vertical-align: top;\n",
              "    }\n",
              "\n",
              "    .dataframe thead th {\n",
              "        text-align: right;\n",
              "    }\n",
              "</style>\n",
              "<table border=\"1\" class=\"dataframe\">\n",
              "  <thead>\n",
              "    <tr style=\"text-align: right;\">\n",
              "      <th></th>\n",
              "      <th>type</th>\n",
              "      <th>fixed_acidity</th>\n",
              "      <th>volatile_acidity</th>\n",
              "      <th>citric_acid</th>\n",
              "      <th>residual_sugar</th>\n",
              "      <th>chlorides</th>\n",
              "      <th>free_sulfur_dioxide</th>\n",
              "      <th>total_sulfur_dioxide</th>\n",
              "      <th>density</th>\n",
              "      <th>pH</th>\n",
              "      <th>sulphates</th>\n",
              "      <th>alcohol</th>\n",
              "      <th>quality</th>\n",
              "    </tr>\n",
              "  </thead>\n",
              "  <tbody>\n",
              "    <tr>\n",
              "      <th>0</th>\n",
              "      <td>White</td>\n",
              "      <td>7.0</td>\n",
              "      <td>0.27</td>\n",
              "      <td>0.36</td>\n",
              "      <td>20.7</td>\n",
              "      <td>0.045</td>\n",
              "      <td>45.0</td>\n",
              "      <td>170.0</td>\n",
              "      <td>1.0010</td>\n",
              "      <td>3.00</td>\n",
              "      <td>0.45</td>\n",
              "      <td>8.8</td>\n",
              "      <td>0</td>\n",
              "    </tr>\n",
              "    <tr>\n",
              "      <th>1</th>\n",
              "      <td>White</td>\n",
              "      <td>6.3</td>\n",
              "      <td>0.30</td>\n",
              "      <td>0.34</td>\n",
              "      <td>1.6</td>\n",
              "      <td>0.049</td>\n",
              "      <td>14.0</td>\n",
              "      <td>132.0</td>\n",
              "      <td>0.9940</td>\n",
              "      <td>3.30</td>\n",
              "      <td>0.49</td>\n",
              "      <td>9.5</td>\n",
              "      <td>0</td>\n",
              "    </tr>\n",
              "    <tr>\n",
              "      <th>2</th>\n",
              "      <td>White</td>\n",
              "      <td>8.1</td>\n",
              "      <td>0.28</td>\n",
              "      <td>0.40</td>\n",
              "      <td>6.9</td>\n",
              "      <td>0.050</td>\n",
              "      <td>30.0</td>\n",
              "      <td>97.0</td>\n",
              "      <td>0.9951</td>\n",
              "      <td>3.26</td>\n",
              "      <td>0.44</td>\n",
              "      <td>10.1</td>\n",
              "      <td>0</td>\n",
              "    </tr>\n",
              "    <tr>\n",
              "      <th>3</th>\n",
              "      <td>White</td>\n",
              "      <td>7.2</td>\n",
              "      <td>0.23</td>\n",
              "      <td>0.32</td>\n",
              "      <td>8.5</td>\n",
              "      <td>0.058</td>\n",
              "      <td>47.0</td>\n",
              "      <td>186.0</td>\n",
              "      <td>0.9956</td>\n",
              "      <td>3.19</td>\n",
              "      <td>0.40</td>\n",
              "      <td>9.9</td>\n",
              "      <td>0</td>\n",
              "    </tr>\n",
              "    <tr>\n",
              "      <th>4</th>\n",
              "      <td>White</td>\n",
              "      <td>6.2</td>\n",
              "      <td>0.32</td>\n",
              "      <td>0.16</td>\n",
              "      <td>7.0</td>\n",
              "      <td>0.045</td>\n",
              "      <td>30.0</td>\n",
              "      <td>136.0</td>\n",
              "      <td>0.9949</td>\n",
              "      <td>3.18</td>\n",
              "      <td>0.47</td>\n",
              "      <td>9.6</td>\n",
              "      <td>0</td>\n",
              "    </tr>\n",
              "  </tbody>\n",
              "</table>\n",
              "</div>"
            ],
            "text/plain": [
              "    type  fixed_acidity  volatile_acidity  ...  sulphates  alcohol  quality\n",
              "0  White            7.0              0.27  ...       0.45      8.8        0\n",
              "1  White            6.3              0.30  ...       0.49      9.5        0\n",
              "2  White            8.1              0.28  ...       0.44     10.1        0\n",
              "3  White            7.2              0.23  ...       0.40      9.9        0\n",
              "4  White            6.2              0.32  ...       0.47      9.6        0\n",
              "\n",
              "[5 rows x 13 columns]"
            ]
          },
          "metadata": {
            "tags": []
          },
          "execution_count": 28
        }
      ]
    },
    {
      "cell_type": "code",
      "metadata": {
        "id": "H-Wn5UM-HXwU",
        "colab_type": "code",
        "outputId": "dfbca471-8766-41ec-b21c-4683eab6c2da",
        "colab": {
          "base_uri": "https://localhost:8080/",
          "height": 34
        }
      },
      "source": [
        "dfo['quality'].unique()"
      ],
      "execution_count": 29,
      "outputs": [
        {
          "output_type": "execute_result",
          "data": {
            "text/plain": [
              "array([0, 1])"
            ]
          },
          "metadata": {
            "tags": []
          },
          "execution_count": 29
        }
      ]
    },
    {
      "cell_type": "markdown",
      "metadata": {
        "id": "Q8b5IXuwWQFy",
        "colab_type": "text"
      },
      "source": [
        "Agora estamos verificando correlações. É uma parte importante do processo exploratório de análise de dados. Essa análise é um dos métodos usados para decidir quais recursos afetam mais a variável de destino e, por sua vez, são usados na previsão dessa variável de destino. Em outras palavras, é um método comumente usado para seleção de recursos no aprendizado de máquina.\n",
        "\n",
        "As correlações são úteis porque podem indicar um relacionamento preditivo que pode ser explorado na prática. Veja o gráfico abaixo para ver todas as correlações entre os recursos. Existem fortes correlações entre pagamentos. Todos os outros são fragilidade."
      ]
    },
    {
      "cell_type": "code",
      "metadata": {
        "id": "E0UpF20zjls3",
        "colab_type": "code",
        "outputId": "00754f7a-5f22-4e67-90b8-70145c394e4f",
        "colab": {
          "base_uri": "https://localhost:8080/",
          "height": 968
        }
      },
      "source": [
        "corr = dfo.corr()\n",
        "mask = np.zeros_like(corr, dtype=np.bool)\n",
        "mask[np.triu_indices_from(mask)] = True\n",
        "f, ax = plt.subplots(figsize=(54, 15))\n",
        "# Generate a custom diverging colormap\n",
        "cmap = sns.diverging_palette(220, 10, as_cmap=True)\n",
        "\n",
        "# Draw the heatmap with the mask and correct aspect ratio\n",
        "sns.heatmap(corr, mask=mask, cmap=cmap, vmax=1, vmin=-1,center=0, annot=True,\n",
        "            square=True, linewidths=.5, cbar_kws={\"shrink\": .5})\n",
        "plt.imshow(corr)"
      ],
      "execution_count": 30,
      "outputs": [
        {
          "output_type": "execute_result",
          "data": {
            "text/plain": [
              "<matplotlib.image.AxesImage at 0x7fd6e9730dd8>"
            ]
          },
          "metadata": {
            "tags": []
          },
          "execution_count": 30
        },
        {
          "output_type": "display_data",
          "data": {
            "image/png": "[encoded data removed]",
            "text/plain": [
              "<Figure size 3888x1080 with 2 Axes>"
            ]
          },
          "metadata": {
            "tags": [],
            "needs_background": "light"
          }
        }
      ]
    },
    {
      "cell_type": "markdown",
      "metadata": {
        "id": "368AuX_-RDag",
        "colab_type": "text"
      },
      "source": [
        "Podemos ver o mesmo fenômeno sobre o par abaixo. correlação fraca entre a maioria dos recursos, mas moderada correlação entre chlorides e sulphates, forte com total_sulfur e free_sulfur_dioxide.\n",
        "\n",
        "**Veja abaixo**\n"
      ]
    },
    {
      "cell_type": "code",
      "metadata": {
        "id": "qlxTi5wilMYO",
        "colab_type": "code",
        "outputId": "b8a3f04b-5cf7-47e2-9f54-d95e6711e53e",
        "colab": {
          "base_uri": "https://localhost:8080/",
          "height": 34
        }
      },
      "source": [
        "sns.pairplot(dfo)"
      ],
      "execution_count": 0,
      "outputs": [
        {
          "output_type": "execute_result",
          "data": {
            "text/plain": [
              "<seaborn.axisgrid.PairGrid at 0x7fd6eaf26588>"
            ]
          },
          "metadata": {
            "tags": []
          },
          "execution_count": 31
        }
      ]
    },
    {
      "cell_type": "code",
      "metadata": {
        "id": "W9tutOFgIdBD",
        "colab_type": "code",
        "colab": {}
      },
      "source": [
        "dfo['type'] = dfo['type'].map({'White': 1,'Red': 2}) "
      ],
      "execution_count": 0,
      "outputs": []
    },
    {
      "cell_type": "markdown",
      "metadata": {
        "id": "sYlbvxyWl_FO",
        "colab_type": "text"
      },
      "source": [
        "## Outras estatísticas\n",
        "\n",
        "### Procurando multicolinearidade\n",
        "\n",
        "Em estatística, a multicolinearidade (também colinearidade) é um fenômeno em que uma variável preditora em um modelo de regressão múltipla pode ser prevista linearmente a partir de outras com um grau substancial de precisão. Nesta situação, as estimativas do coeficiente da regressão múltipla podem mudar erraticamente em resposta a pequenas mudanças no modelo ou nos dados. A multicolinearidade não reduz o poder preditivo ou a confiabilidade do modelo como um todo, pelo menos dentro do conjunto de dados de amostra; isso afeta apenas os cálculos referentes a preditores individuais. Ou seja, um modelo de regressão multivariado com preditores colineares pode indicar até que ponto todo o conjunto de preditores prediz a variável de resultado, mas pode não fornecer resultados válidos sobre qualquer preditor individual ou sobre quais preditores são redundantes em relação a outros.\n",
        "\n",
        "Valores de VIF que excedem US $ 10 $ são frequentemente considerados indicadores de multicolinearidade, mas em modelos mais fracos, valores acima de US $ 2,5 $ podem ser motivo de preocupação.\n",
        "\n"
      ]
    },
    {
      "cell_type": "code",
      "metadata": {
        "id": "8L8vX2wsl-OB",
        "colab_type": "code",
        "colab": {}
      },
      "source": [
        "import statsmodels.formula.api as smf\n",
        "from statsmodels.stats.outliers_influence import variance_inflation_factor\n",
        "\n",
        "y = dfo['quality'] # variavel dependente\n",
        "X = dfo.drop('quality', axis=1)\n",
        "\n",
        "vif = [variance_inflation_factor(X.values, i) for i in range(X.shape[1])]"
      ],
      "execution_count": 0,
      "outputs": []
    },
    {
      "cell_type": "code",
      "metadata": {
        "id": "8uHIc2z-qUiO",
        "colab_type": "code",
        "colab": {}
      },
      "source": [
        "cols = dfo.columns\n",
        "cols = cols[cols!='quality']\n",
        "pd.DataFrame(vif,cols,columns=['VIF'])"
      ],
      "execution_count": 0,
      "outputs": []
    },
    {
      "cell_type": "markdown",
      "metadata": {
        "id": "38IVl32ppePM",
        "colab_type": "text"
      },
      "source": [
        "**Interpretação**\n",
        "\n",
        "A raiz quadrada do fator de inflação da variância indica quanto maior o erro padrão aumenta em comparação com se essa variável teve correlação $0$ com outras variáveis preditivas no modelo.\n",
        "\n",
        "Em nosso exemplo para $chlorides$, o fator de inflação de variação de uma variável preditora foi de $5.014048$ ($√5.014048 = 2.2392$), isso significa que o erro padrão para o coeficiente dessa variável preditora é $2,23$ vezes maior do que se essa variável preditora tivesse correlação de $0$ com as outras variáveis preditoras.\n",
        "\n",
        "Não vamos tirar essas variáveis do modelo, pois faremos a calibração para anular qualquer influência."
      ]
    },
    {
      "cell_type": "markdown",
      "metadata": {
        "id": "3Qj7nw3XmRtb",
        "colab_type": "text"
      },
      "source": [
        "**Análise Residual**\n",
        "\n",
        "A diferença entre o valor observado da variável dependente ($ y $) e o valor previsto ($ ŷ $) é chamado de residual ($ e $). Cada ponto de dados possui um residual.\n",
        "\n",
        "Residual = Valor observado - Valor previsto $ e = y - ŷ $\n",
        "\n",
        "A soma e a média dos resíduos são iguais a zero. Ou seja, $ Σ ** e = 0 $ e $ e = 0 $."
      ]
    },
    {
      "cell_type": "code",
      "metadata": {
        "id": "Ld2qqRVwmUSm",
        "colab_type": "code",
        "colab": {}
      },
      "source": [
        "from sklearn.model_selection import train_test_split\n",
        "from sklearn.linear_model import Ridge\n",
        "from yellowbrick.regressor import ResidualsPlot\n",
        "\n",
        "Y = dfo[\"quality\"]\n",
        "X = dfo.drop(columns=['quality'])\n",
        "\n",
        "# Criando os dados de train e test\n",
        "X_train, X_test, y_train, y_test = train_test_split(X, Y, test_size=0.2, random_state=42)\n",
        "\n",
        "# Instanciando o modelo linear e o visualizador\n",
        "model = Ridge()\n",
        "visualizer = ResidualsPlot(model)\n",
        "\n",
        "visualizer.fit(X_train, y_train)  # Ajuste os dados de treinamento ao visualizador\n",
        "visualizer.score(X_test, y_test)  # Avaliando o modelo nos dados de teste"
      ],
      "execution_count": 0,
      "outputs": []
    },
    {
      "cell_type": "markdown",
      "metadata": {
        "id": "07M-596gKPnD",
        "colab_type": "text"
      },
      "source": [
        "Usamos o modelo Ridge para o problema fundamental de aprendizado de máquina que e balancear capacidade e generalização. Mesmo modelos não tão complexos podem sofrer com sobre ajustamento, assim como a regressão polinomial."
      ]
    },
    {
      "cell_type": "markdown",
      "metadata": {
        "id": "EheIn-qo9JVd",
        "colab_type": "text"
      },
      "source": [
        "Os resíduos, no contexto dos modelos de regressão, são a diferença entre o valor observado da variável de destino ($ y $) e o valor previsto ($ ŷ $), ou seja, o erro da previsão. \n",
        "\n",
        "O gráfico de resíduos mostra a diferença entre os resíduos no eixo vertical e a variável dependente no eixo horizontal, permitindo detectar regiões no destino que podem ser suscetíveis a mais ou menos erros."
      ]
    },
    {
      "cell_type": "markdown",
      "metadata": {
        "id": "llviyP9Z9V4P",
        "colab_type": "text"
      },
      "source": [
        "Um uso comum do gráfico de resíduos é analisar a variação do erro do regressor. Os pontos são dispersos aleatoriamente em torno do eixo horizontal; um modelo de regressão linear é geralmente apropriado para os dados; caso contrário, um modelo não linear é mais apropriado.\n",
        "\n",
        "No caso acima, vemos uma distribuição uniforme e aleatória dos resíduos em relação ao alvo em duas dimensões. Isso parece indicar que nosso modelo linear não está funcionando bem. Também podemos ver no histograma que nosso erro é  distribuído em torno de $0,16$, o que geralmente também indica um modelo não está ajustado."
      ]
    },
    {
      "cell_type": "code",
      "metadata": {
        "id": "BqyzE15xr519",
        "colab_type": "code",
        "colab": {}
      },
      "source": [
        "Y = dfo[\"quality\"]\n",
        "X = dfo.drop(columns=['quality','type','fixed_acidity','volatile_acidity','citric_acid','total_sulfur_dioxide','pH','sulphates'])\n",
        "\n",
        "# Criando os dados de train e test\n",
        "X_train, X_test, y_train, y_test = train_test_split(X, Y, test_size=0.2, random_state=42)\n",
        "\n",
        "# Instanciando o modelo linear e o visualizador\n",
        "model = Ridge()\n",
        "visualizer = ResidualsPlot(model)\n",
        "\n",
        "visualizer.fit(X_train, y_train)  # Ajuste os dados de treinamento ao visualizador\n",
        "visualizer.score(X_test, y_test)  # Avaliando o modelo nos dados de teste"
      ],
      "execution_count": 0,
      "outputs": []
    },
    {
      "cell_type": "code",
      "metadata": {
        "id": "OSudGOjPu-uq",
        "colab_type": "code",
        "colab": {}
      },
      "source": [
        "import statsmodels.formula.api as smf\n",
        "cols = X.columns\n",
        "formule = \" + \".join(map(str, cols))\n",
        "formule = \"quality ~ \" + formule"
      ],
      "execution_count": 0,
      "outputs": []
    },
    {
      "cell_type": "code",
      "metadata": {
        "id": "2hUBn00qygxs",
        "colab_type": "code",
        "colab": {}
      },
      "source": [
        "reg = smf.ols(formule, data = dfo)\n",
        "res = reg.fit()\n",
        "print(res.summary())"
      ],
      "execution_count": 0,
      "outputs": []
    },
    {
      "cell_type": "markdown",
      "metadata": {
        "id": "3P7S1CZhZ0GX",
        "colab_type": "text"
      },
      "source": [
        "Isso significa que  5  da variância de  quality , é explicada pela variância de  X . Uma regressão não tem poder suficiente para classificar essa distribuição do tipo multinomial.\n"
      ]
    },
    {
      "cell_type": "markdown",
      "metadata": {
        "id": "54XHHMGJKyEk",
        "colab_type": "text"
      },
      "source": [
        "**Vamos retornar os valores originais para o tipo de vinho.**"
      ]
    },
    {
      "cell_type": "code",
      "metadata": {
        "id": "gSI0v6uYKs_5",
        "colab_type": "code",
        "colab": {}
      },
      "source": [
        "dfo['type'] = dfo['type'].map({1: 'White',2: 'Red'}) "
      ],
      "execution_count": 0,
      "outputs": []
    },
    {
      "cell_type": "markdown",
      "metadata": {
        "id": "P_jGV66qQJpm",
        "colab_type": "text"
      },
      "source": [
        "### AutoML: Automatic Machine Learning\n",
        "\n",
        "A interface do H2O AutoML foi projetada para ter o menor número possível de parâmetros, de modo que tudo que o usuário precisa é apontar para o conjunto de dados, identificar a coluna de resposta e, opcionalmente, especificar uma restrição de tempo ou limite no número total de modelos treinados.\n",
        "\n",
        "Há outra biblioteca de AutoML. Escolhemos *H2O* por ser parte da **AWS Marketplace** que fornece uma maneira direta de implantar um cluster de VMs com H2O.\n",
        "\n",
        "O Auto-sklearn fornece aprendizado de máquina supervisionado pronto para uso. Construído em torno da biblioteca de aprendizado de máquina do scikit-learn, o auto-sklearn pesquisa automaticamente o algoritmo de aprendizado correto para um novo conjunto de dados de aprendizado de máquina e otimiza seus hiperparâmetros. Assim, libera o praticante de aprendizado de máquina dessas tarefas tediosas e permite que ele se concentre no problema real.\n",
        "\n",
        "[AUTO-SKLEARN](https://www.automl.org/automl/auto-sklearn/)"
      ]
    },
    {
      "cell_type": "markdown",
      "metadata": {
        "id": "e7ysAg4j5ugE",
        "colab_type": "text"
      },
      "source": [
        "### Parsing\n",
        "\n",
        "O parsing do Data Frame original para o modelo do *H2O* é necessário."
      ]
    },
    {
      "cell_type": "code",
      "metadata": {
        "id": "WooUjq9aNpYi",
        "colab_type": "code",
        "colab": {}
      },
      "source": [
        "df = h2o.H2OFrame(dfo)"
      ],
      "execution_count": 0,
      "outputs": []
    },
    {
      "cell_type": "markdown",
      "metadata": {
        "id": "YxAtOxhDYV6A",
        "colab_type": "text"
      },
      "source": [
        "Validando o novo Data Frame"
      ]
    },
    {
      "cell_type": "code",
      "metadata": {
        "id": "qWxqH8EyN8Wl",
        "colab_type": "code",
        "colab": {}
      },
      "source": [
        "df.head()"
      ],
      "execution_count": 0,
      "outputs": []
    },
    {
      "cell_type": "markdown",
      "metadata": {
        "id": "VsgIarzSP3rR",
        "colab_type": "text"
      },
      "source": [
        "### Dividindo os dados em treinamento e teste\n",
        "\n",
        "O conjunto de treinamento contém uma saída conhecida e o modelo aprende sobre esses dados para ser generalizado para outros dados posteriormente. \n",
        "\n",
        "Temos o conjunto de dados de teste (ou subconjunto) para testar a previsão do nosso modelo nesse subconjunto.\n",
        "\n",
        "A variável *default* ou preditora deve ser uma variável do tipo *factor*. Fazemos a conversão aqui."
      ]
    },
    {
      "cell_type": "code",
      "metadata": {
        "id": "s6adFGH7Ny5v",
        "colab_type": "code",
        "colab": {}
      },
      "source": [
        "train, valid, test = df.split_frame(ratios=[0.7, 0.2], seed=1234)\n",
        "test['quality'] = test['quality'].asfactor()\n",
        "train['quality'] = train['quality'].asfactor()\n"
      ],
      "execution_count": 0,
      "outputs": []
    },
    {
      "cell_type": "markdown",
      "metadata": {
        "id": "NBagJvQnDiU_",
        "colab_type": "text"
      },
      "source": [
        "### Os algoritmos que podem ser especificados incluem:\n",
        "\n",
        "* DRF (incluindo os modelos Random Forest e Extremely Randomized Trees (XRT)\n",
        "* GLM - Generalized linear model\n",
        "* XGBoost (XGBoost GBM)\n",
        "* GBM (H2O GBM) - Gradient boosting\n",
        "* DeepLearning (rede neural artificial multicamada totalmente conectada)\n",
        "* StackedEnsemble"
      ]
    },
    {
      "cell_type": "code",
      "metadata": {
        "id": "-vkMwW16OGHu",
        "colab_type": "code",
        "colab": {}
      },
      "source": [
        "from h2o.automl import H2OAutoML, get_leaderboard\n",
        "from h2o.estimators.glm import H2OGeneralizedLinearEstimator\n",
        "\n",
        "aml = H2OAutoML(max_models=20, max_runtime_secs=60, seed=1, include_algos = [\"GLM\", \"DeepLearning\", \"DRF\",\"xGBoost\",\"StackedEnsemble\"])\n",
        "\n",
        "y = \"quality\"\n",
        "x = list(dfo.columns).remove(y)"
      ],
      "execution_count": 0,
      "outputs": []
    },
    {
      "cell_type": "code",
      "metadata": {
        "id": "bBzdyUSoC8Ga",
        "colab_type": "code",
        "colab": {}
      },
      "source": [
        "aml.train(x=x, y=y, training_frame=train)"
      ],
      "execution_count": 0,
      "outputs": []
    },
    {
      "cell_type": "markdown",
      "metadata": {
        "id": "Tvv0junWS1Mq",
        "colab_type": "text"
      },
      "source": [
        "### AutoML - Resultado\n",
        "\n",
        "Os modelos são classificados por uma métrica padrão com base no tipo de problema (a segunda coluna do placar). Nos problemas de classificação binária, essa métrica é *AUC*, e nos problemas de classificação em várias classes, a métrica é o erro médio por classe. \n",
        "\n",
        "Em problemas de regressão, a métrica de classificação padrão é desvio."
      ]
    },
    {
      "cell_type": "code",
      "metadata": {
        "id": "aaiNmdnoOK5X",
        "colab_type": "code",
        "colab": {}
      },
      "source": [
        "lb = get_leaderboard(aml, extra_columns='ALL')\n",
        "lb.head(rows=lb.nrows)"
      ],
      "execution_count": 0,
      "outputs": []
    },
    {
      "cell_type": "markdown",
      "metadata": {
        "id": "EQbU8x5QagxL",
        "colab_type": "text"
      },
      "source": [
        "### O vencedor\n",
        "\n",
        "O XGBoost é um algoritmo de aprendizado supervisionado que implementa um processo chamado impulso para gerar modelos precisos. Impulsionar refere-se à técnica de aprendizado por conjunto de construção de vários modelos sequencialmente, com cada novo modelo tentando corrigir as deficiências no modelo anterior. No aumento de árvore, cada novo modelo adicionado ao conjunto é uma árvore de decisão. O XGBoost fornece aumento de árvore paralelo (também conhecido como GBDT, GBM) que resolve muitos problemas de ciência de dados de maneira rápida e precisa. Para muitos problemas, o XGBoost é uma das melhores estruturas da máquina de aumento de gradiente (GBM) atualmente.\n",
        "\n",
        "[Os modelos XGBoost dominam muitas competições do Kaggle.](https://www.kaggle.com/dansbecker/xgboost)\n",
        "\n",
        "[Veja mais detalhes aqui](http://docs.h2o.ai/h2o/latest-stable/h2o-docs/data-science/xgboost.html)\n",
        "\n",
        "[AWS](http://docs.h2o.ai/h2o/latest-stable/h2o-docs/cloud-integration/aws.html)"
      ]
    },
    {
      "cell_type": "markdown",
      "metadata": {
        "id": "KJ5KjgIWMBA9",
        "colab_type": "text"
      },
      "source": [
        "## Stacked Ensembles\n",
        "\n",
        "[AWS H2O](http://docs.h2o.ai/h2o/latest-stable/h2o-docs/data-science/stacked-ensembles.html?highlight=stackedensemble)\n",
        "\n",
        "O **Stacking**, também chamado de **Super Learning** ou **Stacked Regression**, é uma classe de algoritmos que envolve o treinamento de um \"aprendiz de metal\" de segundo nível para encontrar a combinação ideal dos alunos de base. Ao contrário do ensacamento e do reforço, o objetivo do empilhamento é reunir conjuntos fortes e diversos de alunos.\n",
        "\n",
        "[sklearn.ensemble.StackingClassifier](https://scikit-learn.org/stable/modules/generated/sklearn.ensemble.StackingClassifier.html)\n",
        "\n",
        "Stacked generalization consiste em empilhar a saída do estimador individual e usar um classificador para calcular a previsão final. O empilhamento permite usar a força de cada estimador individual usando sua saída como entrada de um estimador final.\n",
        "\n"
      ]
    },
    {
      "cell_type": "code",
      "metadata": {
        "id": "yy2SboRidAaq",
        "colab_type": "code",
        "colab": {}
      },
      "source": [
        "from h2o.estimators.random_forest import H2ORandomForestEstimator\n",
        "from h2o.estimators.gbm import H2OGradientBoostingEstimator\n",
        "from h2o.estimators.stackedensemble import H2OStackedEnsembleEstimator\n",
        "from h2o.grid.grid_search import H2OGridSearch\n",
        "from __future__ import print_function\n",
        "h2o.init()\n",
        "\n",
        "\n",
        "# Identificar preditores e resposta\n",
        "x = train.columns\n",
        "y = \"quality\"\n",
        "x.remove(y)\n",
        "\n",
        "# Para classificação binária, a resposta deve ser um factor\n",
        "train[y] = train[y].asfactor()\n",
        "test[y] = test[y].asfactor()\n",
        "\n",
        "# Número de folds (para gerar dados de nível um para stacking)\n",
        "nfolds = 5\n",
        "\n",
        "# Existem algumas maneiras de montar uma lista de modelos para stacking:\n",
        "# 1. Treine modelos individuais e coloque-os em uma lista\n",
        "# 2. Treine uma grade de modelos\n",
        "# 3. Treine várias grades de modelos <<=\n",
        "# Nota: Todos os modelos de base devem ter as mesmos números de folds \n",
        "# de validação cruzada e os valores previstos de cross-validation \n",
        "# devem ser mantidos.\n",
        "\n",
        "\n",
        "# 1. Gerando 2-model ensemble (GBM + RF)\n",
        "\n",
        "# Train e cross-validate para um GBM\n",
        "my_gbm = H2OGradientBoostingEstimator(distribution=\"bernoulli\",\n",
        "                                      ntrees=10,\n",
        "                                      max_depth=3,\n",
        "                                      min_rows=2,\n",
        "                                      learn_rate=0.2,\n",
        "                                      nfolds=nfolds,\n",
        "                                      fold_assignment=\"Modulo\",\n",
        "                                      keep_cross_validation_predictions=True,\n",
        "                                      seed=1)\n",
        "my_gbm.train(x=x, y=y, training_frame=train)\n",
        "\n",
        "\n",
        "# Train e cross-validate para um RF\n",
        "my_rf = H2ORandomForestEstimator(ntrees=50,\n",
        "                                 nfolds=nfolds,\n",
        "                                 fold_assignment=\"Modulo\",\n",
        "                                 keep_cross_validation_predictions=True,\n",
        "                                 seed=1)\n",
        "my_rf.train(x=x, y=y, training_frame=train)\n",
        "\n",
        "\n",
        "# Train um stacked ensemble usando o GBM e  GLM abaixo\n",
        "ensemble = H2OStackedEnsembleEstimator(model_id=\"my_ensemble_binomial\",\n",
        "                                       base_models=[my_gbm, my_rf])\n",
        "ensemble.train(x=x, y=y, training_frame=train)\n",
        "\n",
        "# Avaliando o desempenho do conjunto nos dados de teste\n",
        "perf_stack_test = ensemble.model_performance(test)\n",
        "\n",
        "# Comparando com o desempenho básico do learner no conjunto de testes\n",
        "perf_gbm_test = my_gbm.model_performance(test)\n",
        "perf_rf_test = my_rf.model_performance(test)\n",
        "baselearner_best_auc_test = max(perf_gbm_test.auc(), perf_rf_test.auc())\n",
        "stack_auc_test = perf_stack_test.auc()\n",
        "print(\"Best Base-learner Test AUC:  {0}\".format(baselearner_best_auc_test))\n",
        "print(\"Ensemble Test AUC:  {0}\".format(stack_auc_test))\n",
        "\n",
        "# 2. Gere uma grade aleatória de modelos e empilhando-os\n",
        "\n",
        "# Specify GBM hyperparameters for the grid\n",
        "hyper_params = {\"learn_rate\": [0.01, 0.03], # Taxa de aprendizado, + arvores - overfitting\n",
        "                \"max_depth\": [3, 4, 5, 6, 9], # profundidade máxima em que cada árvore será construída\n",
        "                \"sample_rate\": [0.7, 0.8, 0.9, 1.0], # taxa de amostragem da linha (eixo x) (sem substituição)\n",
        "                \"col_sample_rate\": [0.2, 0.3, 0.4, 0.5, 0.6, 0.7, 0.8]} # taxa de amostragem da coluna (eixo y) (sem substituição)\n",
        "                \n",
        "search_criteria = {\"strategy\": \"RandomDiscrete\", \"max_models\": 3, \"seed\": 1}\n",
        "\n",
        "# Train e grid\n",
        "grid = H2OGridSearch(model=H2OGradientBoostingEstimator(ntrees=10,\n",
        "                                                        seed=1,\n",
        "                                                        nfolds=nfolds,\n",
        "                                                        fold_assignment=\"Modulo\",\n",
        "                                                        keep_cross_validation_predictions=True),\n",
        "                     hyper_params=hyper_params,\n",
        "                     search_criteria=search_criteria,\n",
        "                     grid_id=\"gbm_grid_binomial\")\n",
        "grid.train(x=x, y=y, training_frame=train)\n",
        "\n",
        "# Train um stacked ensemble usando o GBM grid\n",
        "ensemble = H2OStackedEnsembleEstimator(model_id=\"my_ensemble_gbm_grid_binomial\",\n",
        "                                       base_models=grid.model_ids)\n",
        "ensemble.train(x=x, y=y, training_frame=train)\n",
        "\n",
        "# Avaliando o desempenho do conjunto nos dados de teste\n",
        "perf_stack_test = ensemble.model_performance(test)\n",
        "\n",
        "# Comparando com o desempenho básico do learner no conjunto de testes\n",
        "baselearner_best_auc_test = max([h2o.get_model(model).model_performance(test_data=test).auc() for model in grid.model_ids])\n",
        "stack_auc_test = perf_stack_test.auc()\n",
        "print(\"Best Base-learner Test AUC:  {0}\".format(baselearner_best_auc_test))\n",
        "print(\"Ensemble Test AUC:  {0}\".format(stack_auc_test))\n"
      ],
      "execution_count": 0,
      "outputs": []
    },
    {
      "cell_type": "code",
      "metadata": {
        "id": "qerjSjrajv_I",
        "colab_type": "code",
        "colab": {}
      },
      "source": [
        "print(\"Best Base-learner Test F1:  {0}\".format(perf_stack_test.F1().value))\n",
        "print(\"Ensemble Test Accuracy   :  {0}\".format(perf_stack_test.accuracy().value))\n",
        "print(\"Ensemble Test AUCPR      :  {0}\".format(perf_stack_test.aucpr()))"
      ],
      "execution_count": 0,
      "outputs": []
    },
    {
      "cell_type": "markdown",
      "metadata": {
        "id": "6c2OoOLjfTT8",
        "colab_type": "text"
      },
      "source": [
        "## Abordagem Tradicional\n",
        "\n",
        "Vamos usar aqui o processamento manual para avaliar as diferenças."
      ]
    },
    {
      "cell_type": "markdown",
      "metadata": {
        "id": "z3cEMQKxKosl",
        "colab_type": "text"
      },
      "source": [
        "### Balanceamento de Classes\n",
        "\n",
        "O parâmetro **balance_classes=True** no código abaixo fornece suporte para a amostra que temos com classes desbalanceadas."
      ]
    },
    {
      "cell_type": "code",
      "metadata": {
        "id": "m7J-UIDNPIej",
        "colab_type": "code",
        "colab": {}
      },
      "source": [
        "from h2o.estimators.gbm import H2OGradientBoostingEstimator\n",
        "\n",
        "# função para configurar parâmetros para trabalhar com o modelo H2O xGBoost\n",
        "def setDRFParam(ntrees=200,                   # número de árvores a serem construídas no modelo\n",
        "                max_depth=20,                 # profundidade máxima em que cada árvore será construída\n",
        "                balance_classes=True,         # pode ser usada para equilibrar a distribuição de classes\n",
        "                sample_rate=0.75,             # usado para especificar a taxa de amostragem da linha (eixo x) (sem substituição)\n",
        "                col_sample_rate_per_tree=0.8, # especifica a taxa de amostragem da coluna para cada árvore (sem substituição))\n",
        "                min_rows=5,                   # número mínimo de observações para uma folha para dividir\n",
        "                seed=3333,                    # random number generator (RNG)\n",
        "                score_tree_interval=5,        # parada antecipada e tentativa de tornar a parada antecipada reproduzível\n",
        "                calibrate_model=False,        # especificação da escala de Platt no DRF para probabilidades de classe calibradas\n",
        "                categorical_encoding=\"one_hot_explicit\", # esquema de codificação a ser usado para lidar com recursos categóricos\n",
        "                distribution=\"bernoulli\",     # no nosso caso, a coluna de resposta deve ser categórica de 2 classes\n",
        "                fold_assignment=\"Stratified\", # validação cruzada - é melhor para grandes conjuntos de dados = auto = random\n",
        "                histogram_type=\"auto\",        # é comumente usado para acelerar o processo de k-fold\n",
        "                keep_cross_validation_predictions=True, # A validação cruzada N-fold é usada para validar um modelo internamente\n",
        "                nfolds=3):\n",
        "   \n",
        "        param = {\n",
        "              \"ntrees\" : ntrees                                      \n",
        "            , \"max_depth\" : max_depth                                \n",
        "            , \"balance_classes\" : balance_classes                    \n",
        "            , \"sample_rate\" : sample_rate\n",
        "            , \"col_sample_rate_per_tree\" : col_sample_rate_per_tree\n",
        "            , \"min_rows\" : min_rows\n",
        "            , \"seed\": seed\n",
        "            , \"score_tree_interval\": score_tree_interval\n",
        "            , \"calibrate_model\": calibrate_model\n",
        "            , \"categorical_encoding\": categorical_encoding\n",
        "            , \"distribution\": distribution\n",
        "            , \"fold_assignment\": fold_assignment\n",
        "            , \"histogram_type\": histogram_type\n",
        "            , \"nfolds\": nfolds\n",
        "        }\n",
        "        return(param)"
      ],
      "execution_count": 0,
      "outputs": []
    },
    {
      "cell_type": "markdown",
      "metadata": {
        "id": "bc5kk5nfC1Vj",
        "colab_type": "text"
      },
      "source": [
        "### Validação Cruzada\n",
        "\n",
        "A validação cruzada é uma técnica para avaliar a capacidade de generalização de um modelo, a partir de um conjunto de dados. Esta técnica é amplamente empregada em problemas onde o objetivo da modelagem é a predição. \n",
        "\n",
        "O método de validação cruzada denominado $k-fold$ consiste em dividir o conjunto total de dados em k subconjuntos mutuamente exclusivos do mesmo tamanho e, a partir daí, um subconjunto é utilizado para teste e os $k-1$ restantes são utilizados para estimação dos parâmetros, fazendo-se o cálculo da acurácia do modelo. Este processo é realizado $k$ vezes alternando de forma circular o subconjunto de teste. \n",
        "\n",
        "Nesse experimento usamos $K$ com o valor de $3$, pois a quantidade de observações é pequena.\n",
        "\n",
        "[Wikipédia](https://pt.wikipedia.org/wiki/Valida%C3%A7%C3%A3o_cruzada)"
      ]
    },
    {
      "cell_type": "code",
      "metadata": {
        "id": "jxud-r13UPw2",
        "colab_type": "code",
        "colab": {}
      },
      "source": [
        "df['quality'] = df['quality'].asfactor()\n",
        "train, valid = df.split_frame(ratios= [.7], seed = 1234)\n",
        "response = 'quality'\n",
        "predictors = df.columns\n",
        "histogram_type = 'auto'\n",
        "categorical_encoding = 'auto'\n"
      ],
      "execution_count": 0,
      "outputs": []
    },
    {
      "cell_type": "markdown",
      "metadata": {
        "id": "TlQYfrmUd2Jo",
        "colab_type": "text"
      },
      "source": [
        "### Numero de arvores\n",
        "\n",
        "Alterando o parâmetro *ntrees* para $50$ e *max_depth* para $20$\n",
        "\n",
        "Para algoritmos baseados em árvore, esta opção especifica o número de árvores a serem construídas no modelo. Nos modelos baseados em árvore, cada nó na árvore corresponde a um campo de recurso de um conjunto de dados. Exceto pelo nó superior, cada nó tem uma ramificação de entrada. Da mesma forma, exceto no nó inferior (ou nó folha), cada nó possui um número de ramificações de saída. Uma ramificação representa um valor possível para o campo de entrada do conjunto de dados de origem. Uma folha representa o valor do campo objetivo, dados todos os valores para cada campo de entrada na cadeia de ramificações que vão da raiz (superior) para essa folha."
      ]
    },
    {
      "cell_type": "code",
      "metadata": {
        "id": "I2qGS6E6Urn9",
        "colab_type": "code",
        "colab": {}
      },
      "source": [
        "param = setDRFParam(ntrees=50, max_depth=20,histogram_type=histogram_type,categorical_encoding=categorical_encoding)\n",
        "model_xGBoost50 = H2OGradientBoostingEstimator(**param)\n",
        "model_xGBoost50.train(x=predictors, y=response, training_frame=train,validation_frame = valid)"
      ],
      "execution_count": 0,
      "outputs": []
    },
    {
      "cell_type": "markdown",
      "metadata": {
        "id": "4gdPepSieCWu",
        "colab_type": "text"
      },
      "source": [
        "Alterando o parâmetro *ntrees* para $200$ e *max_depth* para $40$\n",
        "\n",
        "Podemos tentar muitas configurações usando um loop para muitos valores, começando em $50$ a $600$ para ver quais são os melhores resultados. \n",
        "\n",
        "Por enquanto, neste experimento, tentamos apenas dois."
      ]
    },
    {
      "cell_type": "code",
      "metadata": {
        "id": "6RjRlslIcCX2",
        "colab_type": "code",
        "colab": {}
      },
      "source": [
        "param = setDRFParam(ntrees=200, max_depth=40,histogram_type=histogram_type,categorical_encoding=categorical_encoding)\n",
        "model_xGBoost200 = H2OGradientBoostingEstimator(**param)\n",
        "model_xGBoost200.train(x=predictors, y=response, training_frame=train, validation_frame = valid)"
      ],
      "execution_count": 0,
      "outputs": []
    },
    {
      "cell_type": "markdown",
      "metadata": {
        "id": "3rAvM8vnfura",
        "colab_type": "text"
      },
      "source": [
        "### Salvando os modelos para ter acesso posterior\n",
        "\n",
        "Ao salvar um modelo binário de H2O com *h2o.save_model* ou no Flow, você só poderá carregar e usar esse modelo binário salvo com a mesma versão do H2O usada para treinar seu modelo.\n",
        "\n",
        "Isso é importante, pois se treinarmos vários modelos poderemos acessar interativamente esse modelos e analisar de forma comparativa, como veremos mais abaixo. \n",
        "\n",
        "Podemos inclusive criar históricos de modelos ao longo de sua evolução. \n"
      ]
    },
    {
      "cell_type": "code",
      "metadata": {
        "id": "nsytcaO5fzIU",
        "colab_type": "code",
        "colab": {}
      },
      "source": [
        "import os\n",
        "\n",
        "model_path = h2o.save_model(model=model_xGBoost50, path='.', force=True)\n",
        "os.rename(model_path,os.path.split(model_path)[0]+'/xGBoost50')\n",
        "model_path = h2o.save_model(model=model_xGBoost200, path='.', force=True)\n",
        "os.rename(model_path,os.path.split(model_path)[0]+'/xGBoost200')\n"
      ],
      "execution_count": 0,
      "outputs": []
    },
    {
      "cell_type": "code",
      "metadata": {
        "id": "WdL-3TRUa3Gg",
        "colab_type": "code",
        "colab": {}
      },
      "source": [
        "def showModel(modelImp,Var_Importance,Confusion_Matrix,Cross_Validation,Range,Plot_Metric):\n",
        "    model = h2o.load_model(modelImp)\n",
        "    if Confusion_Matrix:\n",
        "        print(model.confusion_matrix())\n",
        "\n",
        "    if Var_Importance:\n",
        "        model.varimp_plot()\n",
        "    else:\n",
        "        varimpDF = model.varimp(True)\n",
        "        print(varimpDF[varimpDF['scaled_importance'] >= Range])\n",
        "\n",
        "    if Cross_Validation:\n",
        "        print(model.cross_validation_metrics_summary())\n",
        "\n",
        "    if Plot_Metric:\n",
        "        model.plot(metric=\"AUTO\", timestep=\"AUTO\")"
      ],
      "execution_count": 0,
      "outputs": []
    },
    {
      "cell_type": "code",
      "metadata": {
        "id": "hgDs0jmog7Rt",
        "colab_type": "code",
        "colab": {}
      },
      "source": [
        "models = ['xGBoost50','xGBoost200']"
      ],
      "execution_count": 0,
      "outputs": []
    },
    {
      "cell_type": "markdown",
      "metadata": {
        "id": "FpPms5gpVRcR",
        "colab_type": "text"
      },
      "source": [
        "### Desempenho do Modelo\n",
        "\n",
        "O H2O-3 fornece uma variedade de métricas que podem ser usadas para avaliar modelos supervisionados e não supervisionados. \n",
        "\n",
        "As métricas desta seção cobrem apenas modelos de aprendizado supervisionado, que variam com base no tipo de modelo (classificação ou regressão). No momento, mostramos apenas o desempenho da classificação, que é o nosso foco.\n",
        "\n"
      ]
    },
    {
      "cell_type": "markdown",
      "metadata": {
        "id": "lW1Roc43WdJx",
        "colab_type": "text"
      },
      "source": [
        "### Para o Modelo model_xGBoost50\n",
        "\n",
        "A pontuação **F1** fornece uma medida de quão bem um classificador binário pode classificar casos positivos (dado um valor limite). A pontuação **F1** é calculada a partir da média harmônica da $precision$ e $recall$. Uma pontuação F1 de $1$ significa que precisão e recall são perfeitos, e o modelo identificou corretamente todos os casos positivos e não marcou um caso negativo como positivo. \n",
        "\n",
        "Se a precisão ou o recall forem muito baixos, isso será refletido com uma pontuação F1 mais próxima de 0.\n",
        "\n",
        "* $Precision$ são as observações positivas (verdadeiros positivos) que o modelo identificou corretamente a partir de todas as observações que ele rotulou como positivas (os verdadeiros positivos + os falsos positivos).\n",
        "\n",
        "* $Recall$ são as observações positivas (verdadeiros positivos) que o modelo identificou corretamente de todos os casos positivos reais (os verdadeiros positivos + os falsos negativos).\n"
      ]
    },
    {
      "cell_type": "code",
      "metadata": {
        "id": "6zNl9TxyVNK0",
        "colab_type": "code",
        "colab": {}
      },
      "source": [
        "print('F1      : ', model_xGBoost50.F1(valid=True).value)\n",
        "print('Accuracy: ', model_xGBoost50.accuracy(valid=True).value)\n"
      ],
      "execution_count": 0,
      "outputs": []
    },
    {
      "cell_type": "markdown",
      "metadata": {
        "id": "eBvTkhO9_UcW",
        "colab_type": "text"
      },
      "source": [
        "### AUC (Área sob a curva ROC)\n",
        "\n",
        "Essa métrica do modelo é usada para avaliar quão bem um modelo de classificação binária é capaz de distinguir entre positivos verdadeiros e falsos positivos. \n",
        "\n",
        "Uma $AUC$ de $1$ indica um classificador perfeito, enquanto uma $AUC$ de $0,5$ indica um classificador ruim, cujo desempenho não é melhor do que suposições aleatórias. H2O usa a regra trapezoidal para aproximar a área sob a *ROC Curve*.\n"
      ]
    },
    {
      "cell_type": "code",
      "metadata": {
        "id": "cXccaGfUxDzu",
        "colab_type": "code",
        "colab": {}
      },
      "source": [
        "perf = model_xGBoost50.model_performance(test)\n",
        "perf.plot(type = \"roc\")"
      ],
      "execution_count": 0,
      "outputs": []
    },
    {
      "cell_type": "markdown",
      "metadata": {
        "id": "bxYMTMBBBNoG",
        "colab_type": "text"
      },
      "source": [
        "H2O usa a regra trapezoidal para aproximar a área sob a curva ROC. (Dica: AUC geralmente não é a melhor métrica para um alvo binário desequilibrado (como o nosso caso), porque um número alto de Verdadeiros Negativos pode fazer com que a $AUC$ pareça inflada. Para um alvo binário desequilibrado, recomendamos $AUCPR$ ou $MCC$.)"
      ]
    },
    {
      "cell_type": "markdown",
      "metadata": {
        "id": "Ls2tCtHhVCja",
        "colab_type": "text"
      },
      "source": [
        "**Recuperação do AUCPR para o objeto de desempenho**"
      ]
    },
    {
      "cell_type": "code",
      "metadata": {
        "id": "ZVKPHEIIQR9h",
        "colab_type": "code",
        "colab": {}
      },
      "source": [
        "print(\"AUCPR : \", model_xGBoost50.aucpr(valid=True))"
      ],
      "execution_count": 0,
      "outputs": []
    },
    {
      "cell_type": "markdown",
      "metadata": {
        "id": "MzgVUxoPU9Ip",
        "colab_type": "text"
      },
      "source": [
        "Recuperação da AUCPR para os dados de treinamento validação e teste.\n",
        "* Xval é o MSE médio em relação aos k modelos treinados no processo de validação cruzada"
      ]
    },
    {
      "cell_type": "code",
      "metadata": {
        "id": "I08NFWLDASem",
        "colab_type": "code",
        "colab": {}
      },
      "source": [
        "print(\"AUCPR :\",model_xGBoost50.aucpr(train=True, valid=True, xval=True))"
      ],
      "execution_count": 0,
      "outputs": []
    },
    {
      "cell_type": "markdown",
      "metadata": {
        "id": "-te14OnpWrR_",
        "colab_type": "text"
      },
      "source": [
        "### Para o Modelo model_xGBoost200"
      ]
    },
    {
      "cell_type": "code",
      "metadata": {
        "id": "0_N6M1qzWuZM",
        "colab_type": "code",
        "colab": {}
      },
      "source": [
        "print('F1      : ', model_xGBoost200.F1(valid=True).value)\n",
        "print('Accuracy: ', model_xGBoost200.accuracy(valid=True).value)\n"
      ],
      "execution_count": 0,
      "outputs": []
    },
    {
      "cell_type": "code",
      "metadata": {
        "id": "DEugejysvs02",
        "colab_type": "code",
        "colab": {}
      },
      "source": [
        "perf = model_xGBoost200.model_performance(valid)\n",
        "perf.plot(type = \"roc\")"
      ],
      "execution_count": 0,
      "outputs": []
    },
    {
      "cell_type": "code",
      "metadata": {
        "id": "ISwDy30oBXGU",
        "colab_type": "code",
        "colab": {}
      },
      "source": [
        "print(\"AUCPR: \" ,model_xGBoost200.aucpr(valid=True))"
      ],
      "execution_count": 0,
      "outputs": []
    },
    {
      "cell_type": "code",
      "metadata": {
        "id": "cDmZkCEjBpm0",
        "colab_type": "code",
        "colab": {}
      },
      "source": [
        "print(\"AUCPR  :\",model_xGBoost200.aucpr(train=True, valid=True,xval=True))\n"
      ],
      "execution_count": 0,
      "outputs": []
    },
    {
      "cell_type": "markdown",
      "metadata": {
        "id": "jzg6yRX2VYVD",
        "colab_type": "text"
      },
      "source": [
        "### Usando o Interact\n",
        "\n",
        "A função de interação (ipywidgets.interact) cria automaticamente controles da interface do usuário (UI) para explorar códigos e dados de maneira interativa. É a maneira mais fácil de começar a usar os widgets do IPython."
      ]
    },
    {
      "cell_type": "code",
      "metadata": {
        "id": "6_VAxN3HaoVm",
        "colab_type": "code",
        "colab": {}
      },
      "source": [
        "interact(showModel,modelImp=models,\n",
        "         Var_Importance=True,\n",
        "         Confusion_Matrix=False,\n",
        "         Cross_Validation=False,\n",
        "         Range=widgets.FloatSlider(min=0.0, max=1.0, step=0.01, value=0.1),\n",
        "         Plot_Metric=False)"
      ],
      "execution_count": 0,
      "outputs": []
    },
    {
      "cell_type": "markdown",
      "metadata": {
        "id": "v7xn043tThJI",
        "colab_type": "text"
      },
      "source": [
        "## Outra abordagem\n",
        "\n",
        "### Support Vector Machines (SVM)\n",
        "\n",
        "Outra abordagem possível é o SVM. As máquinas de vetores de suporte (SVMs) são um conjunto de métodos de aprendizado supervisionado usados ​​para classificação, regressão e detecção de outliers.\n",
        "\n",
        "As vantagens das máquinas de vetores de suporte:\n",
        "\n",
        "* Ainda eficaz nos casos em que o número de dimensões é maior que o número de amostras\n",
        "* Utiliza um subconjunto de pontos de treinamento na função de decisão (denominada vetores de suporte), portanto, também é eficiente em termos de memória\n",
        "* Versátil: diferentes funções do Kernel podem ser especificadas para a função de decisão. Kernels comuns são fornecidos, mas também é possível especificar kernels personalizados.\n",
        "\n",
        "As desvantagens das máquinas de vetores de suporte incluem:\n",
        "\n",
        "* Se o número de recursos for muito maior que o número de amostras, evite o ajuste excessivo na escolha das funções do Kernel e o termo de regularização é crucial.\n",
        "\n",
        "* Os SVMs não fornecem diretamente estimativas de probabilidade, elas são calculadas usando uma validação cruzada de cinco vezes.\n",
        "\n",
        "**Por que estamos fazemos isso?**\n",
        "\n",
        "Para ver como esse algoritmo funciona em comparação com o que fizemos até agora."
      ]
    },
    {
      "cell_type": "code",
      "metadata": {
        "id": "gwrfubB6aJDR",
        "colab_type": "code",
        "colab": {}
      },
      "source": [
        "dfo['type'] = dfo['type'].map({'White': 1,'Red': 2}) "
      ],
      "execution_count": 0,
      "outputs": []
    },
    {
      "cell_type": "code",
      "metadata": {
        "id": "o7boZjC6I0WR",
        "colab_type": "code",
        "colab": {}
      },
      "source": [
        "from sklearn.svm import SVC\n",
        "from sklearn.metrics import f1_score\n",
        "from sklearn.metrics import accuracy_score\n",
        "from sklearn.metrics import roc_auc_score\n",
        "\n",
        "# Obtendo dados de destino\n",
        "y = dfo['quality']\n",
        "\n",
        "# Load X Variables em um dataframe do Pandas com colunas \n",
        "X = dfo.drop(['quality'], axis = 1)\n",
        "\n",
        "SVM_Model = SVC(gamma='auto')\n",
        "SVM_Model.fit(X,y)"
      ],
      "execution_count": 0,
      "outputs": []
    },
    {
      "cell_type": "markdown",
      "metadata": {
        "id": "VIyr-fBqW9uf",
        "colab_type": "text"
      },
      "source": [
        "### Model Performance\n",
        "\n",
        "Para o Modelo SVM \n"
      ]
    },
    {
      "cell_type": "code",
      "metadata": {
        "id": "SDJrDPyAW980",
        "colab_type": "code",
        "colab": {}
      },
      "source": [
        "print(f'Accuracy -  : {SVM_Model.score(X,y):.6f}')"
      ],
      "execution_count": 0,
      "outputs": []
    },
    {
      "cell_type": "code",
      "metadata": {
        "id": "FBj_nRyRlZix",
        "colab_type": "code",
        "colab": {}
      },
      "source": [
        "yhat_probs = SVM_Model.predict(X)\n"
      ],
      "execution_count": 0,
      "outputs": []
    },
    {
      "cell_type": "code",
      "metadata": {
        "id": "AhRgP48Qo-Ns",
        "colab_type": "code",
        "colab": {}
      },
      "source": [
        "f1 = f1_score(y, yhat_probs)\n",
        "print('SVM F1 score: %f' % f1)"
      ],
      "execution_count": 0,
      "outputs": []
    },
    {
      "cell_type": "code",
      "metadata": {
        "id": "5dPDeJMPpl6T",
        "colab_type": "code",
        "colab": {}
      },
      "source": [
        "accuracy = accuracy_score(y, yhat_probs)\n",
        "print('Accuracy: %f' % accuracy)"
      ],
      "execution_count": 0,
      "outputs": []
    },
    {
      "cell_type": "code",
      "metadata": {
        "id": "ClEEv0kRqrbR",
        "colab_type": "code",
        "colab": {}
      },
      "source": [
        "auc = roc_auc_score(y, yhat_probs)\n",
        "print('SVM ROC AUC: %f' % auc)"
      ],
      "execution_count": 0,
      "outputs": []
    },
    {
      "cell_type": "code",
      "metadata": {
        "id": "48OZPLqlEaHQ",
        "colab_type": "code",
        "colab": {}
      },
      "source": [
        "from sklearn.metrics import classification_report\n",
        "\n",
        "print(classification_report(yhat_probs,y, labels=[0,1]))\n"
      ],
      "execution_count": 0,
      "outputs": []
    },
    {
      "cell_type": "markdown",
      "metadata": {
        "id": "6pGKBYSLTonF",
        "colab_type": "text"
      },
      "source": [
        "Sem um balanceamento das classes, estamos avaliando mal pagadores como bons."
      ]
    },
    {
      "cell_type": "markdown",
      "metadata": {
        "id": "j00NmE0t745P",
        "colab_type": "text"
      },
      "source": [
        "## Avaliando o modelo Generalized Linear Estimator\n",
        "\n",
        "Essa é uma flexível generalização da regressão de mínimos quadrados ordinária."
      ]
    },
    {
      "cell_type": "code",
      "metadata": {
        "id": "e3pLxcmr6h-0",
        "colab_type": "code",
        "colab": {}
      },
      "source": [
        "linear_Model = H2OGeneralizedLinearEstimator(family = 'binomial', \n",
        "                                             max_iterations = 50,\n",
        "                                             nfolds=5,\n",
        "                                             keep_cross_validation_predictions=True,\n",
        "                                             fold_assignment=\"Stratified\")\n",
        "linear_Model.train(x = predictors, y = response, training_frame = train, validation_frame = valid)"
      ],
      "execution_count": 0,
      "outputs": []
    },
    {
      "cell_type": "code",
      "metadata": {
        "id": "gnAeRU4p7wyZ",
        "colab_type": "code",
        "colab": {}
      },
      "source": [
        "print('F1      : ', linear_Model.F1(valid=True).value)\n",
        "print('Accuracy: ', linear_Model.accuracy(valid=True).value)\n",
        "print('AUCPR   : ', linear_Model.aucpr(valid=True))\n"
      ],
      "execution_count": 0,
      "outputs": []
    },
    {
      "cell_type": "code",
      "metadata": {
        "id": "gvzj4ZD89G4t",
        "colab_type": "code",
        "colab": {}
      },
      "source": [
        "linear_Model.confusion_matrix()"
      ],
      "execution_count": 0,
      "outputs": []
    },
    {
      "cell_type": "markdown",
      "metadata": {
        "id": "sdpT-CyYCg_Y",
        "colab_type": "text"
      },
      "source": [
        "## Conclusão\n",
        "\n",
        "Podemos concluir, com os dados abaixo:\n",
        "\n",
        "## Modelo Multiclasses\n",
        "\n",
        "**Stacked Ensembles**\n",
        "* Best Base-learner Test AUC:  0.754377938358377\n",
        "\n",
        "**Grid**\n",
        "\n",
        "* Best Base-learner Test AUC:  0.8290242093045351\n",
        "* Ensemble Test AUC:  0.6834603249547286\n",
        "\n",
        "**Model: xGBoost50**\n",
        "* AUC: 0.4530560806553245\n",
        "\n",
        "**Model : xGBoost200**\n",
        "* AUC: 0.46061751732829237\n",
        "\n",
        "## Modelo Binomial\n",
        "\n",
        "**Modelo Stacked Ensembles**\n",
        "\n",
        "* Best Base-learner Test F1:  0.6384976525821595\n",
        "* Ensemble Test Accuracy   :  0.8786231884057971\n",
        "* Ensemble Test AUCPR      :  0.6303999363492204\n",
        "\n",
        "**Modelo xGBoost com 50 árvores**\n",
        "* F1...........: 0.5932203389830508\n",
        "* Accuracy: 0.8506616257088847\n",
        "* AUCPR....: 0.6038071313069115\n",
        "\n",
        "**Modelo xGBoost com 200 árvores**\n",
        "* F1...........: 0.6038291605301914\n",
        "* Accuracy: 0.8594833018273472\n",
        "* AUCPR....: 0.630277510310856\n",
        "\n",
        "**Modelo SVM**\n",
        "* SVM F1 score: 0.877632\n",
        "* Accuracy........: 0.543158\n",
        "* SVM ROC AUC: 0.688411\n",
        "\n",
        "**Modelo GLM**\n",
        "* F1...........:  0.4919168591224018\n",
        "* Accuracy:  0.8128544423440454\n",
        "* AUCPR....:  0.37884491531318887\n",
        "\n",
        "O modelo gerado pelo SVM foi mais performático que os demais, porém uma avaliação de *Precision* e *Recall* e *Support* observa-se que houve *overfitting*. O mesmo para o modelo GLM.\n",
        "\n",
        "É possível prever, com boa acurácia os bons vinhos.\n",
        "\n",
        "**Estratégia Ideal**\n",
        "\n",
        "Uma amostra de vinhos com a nota mais alta com uma outra classe com menor pontuação e submeter no algoritmo Stacked Ensembles em um modelo binomial, fazer isso para todas as outras notas de vinhos, sempre trabalhando com modelos binomiais, em pares. \n",
        "\n",
        "Todo o exercício analisa o desempenho de vários algoritmos para calcular a qualidade de um vinho, se bom ou ruim. O desempenho dos algoritmos é medido usando várias métricas. A seleção de modelos baseada apenas na precisão não faz muito sentido, porque o conjunto de dados é desequilibrado e inclinado. Portanto, a sensibilidade ou recuperação (True Positive Rate), juntamente com a precisão do modelo, são importantes. Highrecall significa que mais vinhos ruins são capturados. E precisão razoavelmente alta significa menos falsos positivos. Um bom modelo é um equilíbrio entre alta recuperação e alta precisão razoável. Portanto, a F-Measure e a curva ROC são as métricas que estamos procurando, juntamente com a Precision and Recall.\n",
        "\n",
        "O trabalho futuro deste projeto pode incluir o uso de redes neurais, além de metodologias alternativas de mineração de dados para verificar se a verdadeira taxa positiva para prever os melhores vinhos está aumentando juntamente com a precisão do modelo. Também poderíamos aplicar a combinação de k-folds. Isso certamente pode nos ajudar a descobrir que quais podem ser as características distintivas de um vinho que foi classificada como ruim. Isso pode ajudar os bancos a tomar decisões informadas, por exemplo, o que todos os recursos precisam ser incluídos."
      ]
    }
  ]
}